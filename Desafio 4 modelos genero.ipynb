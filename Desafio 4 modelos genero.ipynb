{
 "cells": [
  {
   "cell_type": "markdown",
   "metadata": {},
   "source": [
    "# Índice\n",
    "\n",
    "#### <b><a href=\"#regresionlog\">1. Regresion Logistica</a></b>\n",
    "#### <b><a href=\"#naive\">2. Naive Bayes</a></b>\n",
    "#### <b><a href=\"#arbol\">3. Árboles</a></b>\n",
    "#### <b><a href=\"#cluster\">4. Clustering</a></b>"
   ]
  },
  {
   "cell_type": "code",
   "execution_count": null,
   "metadata": {},
   "outputs": [],
   "source": [
    "import pandas as pd\n",
    "import numpy as np\n",
    "import seaborn as sns\n",
    "from scipy.spatial.distance import pdist,squareform\n",
    "from sklearn.preprocessing import StandardScaler\n",
    "from sklearn.cluster import KMeans\n",
    "from sklearn.decomposition import PCA\n",
    "import matplotlib.pyplot as plt\n",
    "from sklearn.linear_model import LogisticRegression, LogisticRegressionCV\n",
    "from sklearn.model_selection import GridSearchCV, train_test_split\n",
    "from sklearn.metrics import accuracy_score,plot_confusion_matrix,roc_auc_score, classification_report, confusion_matrix, precision_recall_curve, auc, precision_score, recall_score\n",
    "from sklearn.naive_bayes import GaussianNB\n",
    "from sklearn.metrics import roc_curve\n",
    "from sklearn.metrics import auc\n",
    "from sklearn.model_selection import StratifiedKFold\n",
    "from imblearn.under_sampling import RandomUnderSampler"
   ]
  },
  {
   "cell_type": "markdown",
   "metadata": {},
   "source": [
    "### Lectura del dataset"
   ]
  },
  {
   "cell_type": "code",
   "execution_count": null,
   "metadata": {},
   "outputs": [],
   "source": [
    "data = pd.read_csv('./music_sentiments.csv', sep=\"\\t\")\n",
    "data.shape"
   ]
  },
  {
   "cell_type": "code",
   "execution_count": null,
   "metadata": {},
   "outputs": [],
   "source": [
    "data.head(5)"
   ]
  },
  {
   "cell_type": "code",
   "execution_count": null,
   "metadata": {},
   "outputs": [],
   "source": [
    "#data.drop(columns=[\"Unnamed: 0\"], inplace=True)\n",
    "data.drop(columns=[\"artist\", \"album\", \"tokens\", \"char_count\", \"ignore_track\", \"track_name_clean\", \"album_release_year\"], inplace=True)"
   ]
  },
  {
   "cell_type": "code",
   "execution_count": null,
   "metadata": {},
   "outputs": [],
   "source": [
    "data.columns"
   ]
  },
  {
   "cell_type": "code",
   "execution_count": null,
   "metadata": {},
   "outputs": [],
   "source": [
    "sns.heatmap(data.corr(), vmin=-1, vmax=1, center=0, cmap=\"YlGnBu\")"
   ]
  },
  {
   "cell_type": "markdown",
   "metadata": {},
   "source": [
    "### Features, Variable Target y Normalización"
   ]
  },
  {
   "cell_type": "code",
   "execution_count": 7,
   "metadata": {},
   "outputs": [],
   "source": [
    "X = data.drop(columns=[\"genre\"])\n",
    "y = data[\"genre\"]"
   ]
  },
  {
   "cell_type": "code",
   "execution_count": 8,
   "metadata": {},
   "outputs": [],
   "source": [
    "X_train, X_test, y_train, y_test = train_test_split(X, y, stratify=y, random_state = 0)"
   ]
  },
  {
   "cell_type": "code",
   "execution_count": 9,
   "metadata": {},
   "outputs": [],
   "source": [
    "scaler = StandardScaler()\n",
    "X_train_std = scaler.fit_transform(X_train)\n",
    "X_test_std = scaler.transform(X_test)"
   ]
  },
  {
   "cell_type": "markdown",
   "metadata": {},
   "source": [
    "### Función para evaluar modelos"
   ]
  },
  {
   "cell_type": "code",
   "execution_count": 10,
   "metadata": {},
   "outputs": [],
   "source": [
    "def evaluate_model(model,X,y_true):\n",
    "    '''\n",
    "    Calcula las métricas ppales para evaluar un clasificador\n",
    "    Toma como imput el modelo entrenado, el dataset de testeo y sus etiquetas\n",
    "    '''\n",
    "    y_pred=model.predict(X)\n",
    "    y_proba=model.predict_proba(X)\n",
    "\n",
    "    print(classification_report(y_true,y_pred))\n",
    "    print('Area bajo la curva ROC:',np.round(roc_auc_score(y_true, y_proba, multi_class=\"ovo\"),4))\n",
    "    plot_confusion_matrix(model,X,y_true,cmap='Blues');\n",
    "    return"
   ]
  },
  {
   "cell_type": "markdown",
   "metadata": {},
   "source": [
    "----------------------------------"
   ]
  },
  {
   "cell_type": "markdown",
   "metadata": {},
   "source": [
    "# <b><a id=\"regresionlog\">1. Regresion Logistica</a></b>"
   ]
  },
  {
   "cell_type": "code",
   "execution_count": 11,
   "metadata": {},
   "outputs": [
    {
     "data": {
      "text/plain": [
       "LogisticRegression(max_iter=1000)"
      ]
     },
     "execution_count": 11,
     "metadata": {},
     "output_type": "execute_result"
    }
   ],
   "source": [
    "lr = LogisticRegression(max_iter=1000)\n",
    "lr.fit(X_train_std, y_train)"
   ]
  },
  {
   "cell_type": "code",
   "execution_count": 12,
   "metadata": {},
   "outputs": [],
   "source": [
    "y_pred=lr.predict(X_test_std)\n",
    "y_proba=lr.predict_proba(X_test_std)"
   ]
  },
  {
   "cell_type": "code",
   "execution_count": 13,
   "metadata": {},
   "outputs": [
    {
     "data": {
      "text/plain": [
       "0.7502903600464577"
      ]
     },
     "execution_count": 13,
     "metadata": {},
     "output_type": "execute_result"
    }
   ],
   "source": [
    "accuracy_score(y_train, lr.predict(X_train_std))"
   ]
  },
  {
   "cell_type": "code",
   "execution_count": 14,
   "metadata": {},
   "outputs": [
    {
     "name": "stdout",
     "output_type": "stream",
     "text": [
      "              precision    recall  f1-score   support\n",
      "\n",
      " Heavy Metal       0.65      0.60      0.62       202\n",
      "        Jazz       0.70      0.73      0.72        97\n",
      "         Pop       0.82      0.86      0.84       195\n",
      "   Punk Rock       0.57      0.58      0.58       211\n",
      " Rock n Roll       0.72      0.72      0.72       157\n",
      "\n",
      "    accuracy                           0.69       862\n",
      "   macro avg       0.69      0.70      0.70       862\n",
      "weighted avg       0.69      0.69      0.69       862\n",
      "\n",
      "Area bajo la curva ROC: 0.9235\n"
     ]
    },
    {
     "data": {
      "image/png": "[encoded data removed]",
      "text/plain": [
       "<Figure size 432x288 with 2 Axes>"
      ]
     },
     "metadata": {
      "needs_background": "light"
     },
     "output_type": "display_data"
    }
   ],
   "source": [
    "evaluate_model(lr, X_test_std, y_test)"
   ]
  },
  {
   "cell_type": "markdown",
   "metadata": {},
   "source": [
    "#### <b><a id=\"regresionloggrid\">1.2 GridSearch</a></b>"
   ]
  },
  {
   "cell_type": "code",
   "execution_count": 15,
   "metadata": {},
   "outputs": [],
   "source": [
    "param_grid_lr = {'C': [1, 10, 100, 1000, 10000, 100000],\n",
    "     'penalty': [\"l2\"],\n",
    "     'solver': ['saga', \"lbfgs\"]}"
   ]
  },
  {
   "cell_type": "code",
   "execution_count": 16,
   "metadata": {},
   "outputs": [],
   "source": [
    "folds = StratifiedKFold(n_splits=5, random_state=19, shuffle=True)"
   ]
  },
  {
   "cell_type": "code",
   "execution_count": 17,
   "metadata": {},
   "outputs": [],
   "source": [
    "grid_lr = GridSearchCV(lr, param_grid_lr, cv=folds, scoring='accuracy', n_jobs=-2)"
   ]
  },
  {
   "cell_type": "code",
   "execution_count": 18,
   "metadata": {},
   "outputs": [],
   "source": [
    "lr_fiteado = grid_lr.fit(X_train_std, y_train)"
   ]
  },
  {
   "cell_type": "code",
   "execution_count": 19,
   "metadata": {},
   "outputs": [
    {
     "data": {
      "text/plain": [
       "{'C': 1, 'penalty': 'l2', 'solver': 'saga'}"
      ]
     },
     "execution_count": 19,
     "metadata": {},
     "output_type": "execute_result"
    }
   ],
   "source": [
    "grid_lr.best_params_"
   ]
  },
  {
   "cell_type": "code",
   "execution_count": 20,
   "metadata": {},
   "outputs": [
    {
     "data": {
      "text/plain": [
       "0.7073321038189915"
      ]
     },
     "execution_count": 20,
     "metadata": {},
     "output_type": "execute_result"
    }
   ],
   "source": [
    "grid_lr.best_score_"
   ]
  },
  {
   "cell_type": "code",
   "execution_count": 21,
   "metadata": {},
   "outputs": [
    {
     "name": "stdout",
     "output_type": "stream",
     "text": [
      "              precision    recall  f1-score   support\n",
      "\n",
      " Heavy Metal       0.65      0.60      0.62       202\n",
      "        Jazz       0.70      0.73      0.72        97\n",
      "         Pop       0.83      0.86      0.84       195\n",
      "   Punk Rock       0.57      0.58      0.58       211\n",
      " Rock n Roll       0.72      0.73      0.72       157\n",
      "\n",
      "    accuracy                           0.69       862\n",
      "   macro avg       0.69      0.70      0.70       862\n",
      "weighted avg       0.69      0.69      0.69       862\n",
      "\n",
      "Area bajo la curva ROC: 0.9236\n"
     ]
    },
    {
     "data": {
      "image/png": "[encoded data removed]",
      "text/plain": [
       "<Figure size 432x288 with 2 Axes>"
      ]
     },
     "metadata": {
      "needs_background": "light"
     },
     "output_type": "display_data"
    }
   ],
   "source": [
    "evaluate_model(grid_lr, X_test_std, y_test)"
   ]
  },
  {
   "cell_type": "code",
   "execution_count": 22,
   "metadata": {},
   "outputs": [],
   "source": [
    "#logistic Regression\n",
    "resultados_lr = [[\"Logistic Regression\", accuracy_score(y_test,lr.predict(X_test_std)), precision_score(y_test,lr.predict(X_test_std), average=\"weighted\"), recall_score(y_test,lr.predict(X_test_std), average=\"weighted\")]]\n",
    "resultados = pd.DataFrame(resultados_lr, columns=[\"modelo\", \"accuracy\", \"precision\", \"recall\"])\n",
    "\n",
    "#Logistic Regression Grid\n",
    "resultados_grid_lr = [[\"Logistic Regression Grid\", accuracy_score(y_test,grid_lr.predict(X_test_std)), precision_score(y_test,grid_lr.predict(X_test_std), average=\"weighted\"), recall_score(y_test,grid_lr.predict(X_test_std), average=\"weighted\")]]\n",
    "resultados_grid_lr_df = pd.DataFrame(resultados_grid_lr, columns=[\"modelo\", \"accuracy\", \"precision\", \"recall\"])\n",
    "\n",
    "#Tabla final\n",
    "resultados = resultados.append(resultados_grid_lr_df)"
   ]
  },
  {
   "cell_type": "markdown",
   "metadata": {},
   "source": [
    "----------------------------------"
   ]
  },
  {
   "cell_type": "markdown",
   "metadata": {},
   "source": [
    "# <b><a id=\"naive\">2. Naive Bayes</a></b>"
   ]
  },
  {
   "cell_type": "markdown",
   "metadata": {},
   "source": [
    "#### 2.1. Sin normalización"
   ]
  },
  {
   "cell_type": "code",
   "execution_count": 23,
   "metadata": {},
   "outputs": [
    {
     "data": {
      "text/plain": [
       "GaussianNB()"
      ]
     },
     "execution_count": 23,
     "metadata": {},
     "output_type": "execute_result"
    }
   ],
   "source": [
    "gnb = GaussianNB()\n",
    "gnb.fit(X_train, y_train)"
   ]
  },
  {
   "cell_type": "code",
   "execution_count": 24,
   "metadata": {},
   "outputs": [
    {
     "name": "stdout",
     "output_type": "stream",
     "text": [
      "Accuracy test sin normalizar 0.4733178654292343\n",
      "Accuracy train sin normalizar 0.49516066589237323\n"
     ]
    }
   ],
   "source": [
    "y_pred = gnb.predict(X_test)\n",
    "y_pred_train = gnb.predict(X_train)\n",
    "print(\"Accuracy test sin normalizar\", accuracy_score(y_test, y_pred))\n",
    "print(\"Accuracy train sin normalizar\", accuracy_score(y_train, y_pred_train))"
   ]
  },
  {
   "cell_type": "markdown",
   "metadata": {},
   "source": [
    "#### 2.2. Con normalización"
   ]
  },
  {
   "cell_type": "code",
   "execution_count": 25,
   "metadata": {},
   "outputs": [
    {
     "data": {
      "text/plain": [
       "GaussianNB()"
      ]
     },
     "execution_count": 25,
     "metadata": {},
     "output_type": "execute_result"
    }
   ],
   "source": [
    "gnb_std = GaussianNB()\n",
    "gnb_std.fit(X_train_std, y_train)"
   ]
  },
  {
   "cell_type": "code",
   "execution_count": 26,
   "metadata": {},
   "outputs": [
    {
     "name": "stdout",
     "output_type": "stream",
     "text": [
      "Accuracy train con normalización 0.49516066589237323\n"
     ]
    }
   ],
   "source": [
    "y_pred_train_std = gnb_std.predict(X_train_std)\n",
    "print(\"Accuracy train con normalización\", accuracy_score(y_train, y_pred_train_std))"
   ]
  },
  {
   "cell_type": "code",
   "execution_count": 27,
   "metadata": {},
   "outputs": [
    {
     "name": "stdout",
     "output_type": "stream",
     "text": [
      "              precision    recall  f1-score   support\n",
      "\n",
      " Heavy Metal       0.58      0.50      0.54       202\n",
      "        Jazz       0.43      0.82      0.57        97\n",
      "         Pop       0.67      0.43      0.52       195\n",
      "   Punk Rock       0.45      0.24      0.31       211\n",
      " Rock n Roll       0.35      0.59      0.44       157\n",
      "\n",
      "    accuracy                           0.47       862\n",
      "   macro avg       0.50      0.52      0.48       862\n",
      "weighted avg       0.51      0.47      0.46       862\n",
      "\n",
      "Area bajo la curva ROC: 0.8119\n"
     ]
    },
    {
     "data": {
      "image/png": "[encoded data removed]",
      "text/plain": [
       "<Figure size 432x288 with 2 Axes>"
      ]
     },
     "metadata": {
      "needs_background": "light"
     },
     "output_type": "display_data"
    }
   ],
   "source": [
    "evaluate_model(gnb_std, X_test_std, y_test)"
   ]
  },
  {
   "cell_type": "code",
   "execution_count": 28,
   "metadata": {},
   "outputs": [],
   "source": [
    "#Naive Bayes\n",
    "resultados_gnb = [[\"Naive Bayes\", accuracy_score(y_test,gnb.predict(X_test)), precision_score(y_test,gnb.predict(X_test), average=\"weighted\"), recall_score(y_test,gnb.predict(X_test), average=\"weighted\")]]\n",
    "resultados_gnb_df = pd.DataFrame(resultados_gnb, columns=[\"modelo\", \"accuracy\", \"precision\", \"recall\"])\n",
    "\n",
    "#Naive Bayes Normalizado\n",
    "resultados_gnb_std = [[\"Naive Bayes Normalizado\", accuracy_score(y_test,gnb_std.predict(X_test_std)), precision_score(y_test,gnb_std.predict(X_test_std), average=\"weighted\"), recall_score(y_test,gnb_std.predict(X_test_std), average=\"weighted\")]]\n",
    "resultados_gnb_std_df = pd.DataFrame(resultados_gnb_std, columns=[\"modelo\", \"accuracy\", \"precision\", \"recall\"])\n",
    "\n",
    "#Tabla final\n",
    "resultados = resultados.append([resultados_gnb_df,resultados_gnb_std_df])"
   ]
  },
  {
   "cell_type": "markdown",
   "metadata": {},
   "source": [
    "----------------------------------"
   ]
  },
  {
   "cell_type": "markdown",
   "metadata": {},
   "source": [
    "# <b><a id=\"arbol\">3. Árboles</a></b>"
   ]
  },
  {
   "cell_type": "markdown",
   "metadata": {},
   "source": [
    "#### 3.1. Sin normalización"
   ]
  },
  {
   "cell_type": "code",
   "execution_count": 29,
   "metadata": {},
   "outputs": [],
   "source": [
    "from sklearn import tree\n",
    "clftree = tree.DecisionTreeClassifier(random_state=40)"
   ]
  },
  {
   "cell_type": "code",
   "execution_count": 30,
   "metadata": {},
   "outputs": [
    {
     "data": {
      "text/plain": [
       "DecisionTreeClassifier(random_state=40)"
      ]
     },
     "execution_count": 30,
     "metadata": {},
     "output_type": "execute_result"
    }
   ],
   "source": [
    "clftree.fit(X_train, y_train)"
   ]
  },
  {
   "cell_type": "code",
   "execution_count": 31,
   "metadata": {},
   "outputs": [],
   "source": [
    "y_train_pred_tree = clftree.predict(X_train)\n",
    "y_test_pred_tree = clftree.predict(X_test)"
   ]
  },
  {
   "cell_type": "code",
   "execution_count": 32,
   "metadata": {},
   "outputs": [
    {
     "data": {
      "text/plain": [
       "1.0"
      ]
     },
     "execution_count": 32,
     "metadata": {},
     "output_type": "execute_result"
    }
   ],
   "source": [
    "accuracy_score(y_train, y_train_pred_tree)"
   ]
  },
  {
   "cell_type": "code",
   "execution_count": 33,
   "metadata": {},
   "outputs": [
    {
     "name": "stdout",
     "output_type": "stream",
     "text": [
      "              precision    recall  f1-score   support\n",
      "\n",
      " Heavy Metal       0.64      0.52      0.57       202\n",
      "        Jazz       0.62      0.62      0.62        97\n",
      "         Pop       0.68      0.67      0.68       195\n",
      "   Punk Rock       0.48      0.54      0.51       211\n",
      " Rock n Roll       0.60      0.68      0.64       157\n",
      "\n",
      "    accuracy                           0.60       862\n",
      "   macro avg       0.61      0.60      0.60       862\n",
      "weighted avg       0.60      0.60      0.60       862\n",
      "\n",
      "Area bajo la curva ROC: 0.752\n"
     ]
    },
    {
     "data": {
      "image/png": "[encoded data removed]",
      "text/plain": [
       "<Figure size 432x288 with 2 Axes>"
      ]
     },
     "metadata": {
      "needs_background": "light"
     },
     "output_type": "display_data"
    }
   ],
   "source": [
    "evaluate_model(clftree, X_test, y_test)"
   ]
  },
  {
   "cell_type": "markdown",
   "metadata": {},
   "source": [
    "#### 3.2. Con normalización"
   ]
  },
  {
   "cell_type": "code",
   "execution_count": 34,
   "metadata": {},
   "outputs": [],
   "source": [
    "clftree_std = tree.DecisionTreeClassifier(random_state=40)"
   ]
  },
  {
   "cell_type": "code",
   "execution_count": 35,
   "metadata": {},
   "outputs": [
    {
     "data": {
      "text/plain": [
       "DecisionTreeClassifier(random_state=40)"
      ]
     },
     "execution_count": 35,
     "metadata": {},
     "output_type": "execute_result"
    }
   ],
   "source": [
    "clftree_std.fit(X_train_std, y_train)"
   ]
  },
  {
   "cell_type": "code",
   "execution_count": 36,
   "metadata": {},
   "outputs": [],
   "source": [
    "y_train_pred_tree_std = clftree_std.predict(X_train_std)\n",
    "y_test_pred_tree_std = clftree_std.predict(X_test_std)"
   ]
  },
  {
   "cell_type": "code",
   "execution_count": 37,
   "metadata": {},
   "outputs": [
    {
     "data": {
      "text/plain": [
       "1.0"
      ]
     },
     "execution_count": 37,
     "metadata": {},
     "output_type": "execute_result"
    }
   ],
   "source": [
    "accuracy_score(y_train, y_train_pred_tree_std)"
   ]
  },
  {
   "cell_type": "code",
   "execution_count": 38,
   "metadata": {},
   "outputs": [
    {
     "name": "stdout",
     "output_type": "stream",
     "text": [
      "              precision    recall  f1-score   support\n",
      "\n",
      " Heavy Metal       0.61      0.55      0.58       202\n",
      "        Jazz       0.66      0.67      0.66        97\n",
      "         Pop       0.71      0.67      0.69       195\n",
      "   Punk Rock       0.46      0.49      0.48       211\n",
      " Rock n Roll       0.60      0.67      0.63       157\n",
      "\n",
      "    accuracy                           0.60       862\n",
      "   macro avg       0.61      0.61      0.61       862\n",
      "weighted avg       0.60      0.60      0.60       862\n",
      "\n",
      "Area bajo la curva ROC: 0.756\n"
     ]
    },
    {
     "data": {
      "image/png": "[encoded data removed]",
      "text/plain": [
       "<Figure size 432x288 with 2 Axes>"
      ]
     },
     "metadata": {
      "needs_background": "light"
     },
     "output_type": "display_data"
    }
   ],
   "source": [
    "evaluate_model(clftree_std, X_test_std, y_test)"
   ]
  },
  {
   "cell_type": "markdown",
   "metadata": {},
   "source": [
    "#### 3.3. GridSearch"
   ]
  },
  {
   "cell_type": "code",
   "execution_count": 39,
   "metadata": {},
   "outputs": [],
   "source": [
    "params_grid = { \"criterion\" : [\"gini\", \"entropy\"],\n",
    "                \"min_samples_leaf\": [5,10,15,20,None], \n",
    "                \"max_depth\" : [1,2,3,4,5,6,8,9,10,11,12,13,14,None],\n",
    "                \"min_samples_split\": [2, 3, 4,None]}"
   ]
  },
  {
   "cell_type": "code",
   "execution_count": 40,
   "metadata": {},
   "outputs": [],
   "source": [
    "grid_search = GridSearchCV(clftree, params_grid,\n",
    "                           n_jobs=-2, scoring='accuracy')"
   ]
  },
  {
   "cell_type": "code",
   "execution_count": 41,
   "metadata": {},
   "outputs": [
    {
     "data": {
      "text/plain": [
       "GridSearchCV(estimator=DecisionTreeClassifier(random_state=40), n_jobs=-2,\n",
       "             param_grid={'criterion': ['gini', 'entropy'],\n",
       "                         'max_depth': [1, 2, 3, 4, 5, 6, 8, 9, 10, 11, 12, 13,\n",
       "                                       14, None],\n",
       "                         'min_samples_leaf': [5, 10, 15, 20, None],\n",
       "                         'min_samples_split': [2, 3, 4, None]},\n",
       "             scoring='accuracy')"
      ]
     },
     "execution_count": 41,
     "metadata": {},
     "output_type": "execute_result"
    }
   ],
   "source": [
    "grid_search.fit(X_train, y_train)"
   ]
  },
  {
   "cell_type": "code",
   "execution_count": 42,
   "metadata": {},
   "outputs": [
    {
     "data": {
      "text/plain": [
       "0.65002474022761"
      ]
     },
     "execution_count": 42,
     "metadata": {},
     "output_type": "execute_result"
    }
   ],
   "source": [
    "#Score durante el entrenamiento.\n",
    "grid_search.best_score_"
   ]
  },
  {
   "cell_type": "code",
   "execution_count": 43,
   "metadata": {},
   "outputs": [
    {
     "data": {
      "text/plain": [
       "{'criterion': 'gini',\n",
       " 'max_depth': 6,\n",
       " 'min_samples_leaf': 5,\n",
       " 'min_samples_split': 2}"
      ]
     },
     "execution_count": 43,
     "metadata": {},
     "output_type": "execute_result"
    }
   ],
   "source": [
    "grid_search.best_params_ "
   ]
  },
  {
   "cell_type": "code",
   "execution_count": 44,
   "metadata": {},
   "outputs": [],
   "source": [
    "cv_clf = grid_search.best_estimator_"
   ]
  },
  {
   "cell_type": "code",
   "execution_count": 45,
   "metadata": {},
   "outputs": [
    {
     "data": {
      "text/plain": [
       "DecisionTreeClassifier(max_depth=6, min_samples_leaf=5, random_state=40)"
      ]
     },
     "execution_count": 45,
     "metadata": {},
     "output_type": "execute_result"
    }
   ],
   "source": [
    "cv_clf"
   ]
  },
  {
   "cell_type": "code",
   "execution_count": 46,
   "metadata": {},
   "outputs": [
    {
     "name": "stdout",
     "output_type": "stream",
     "text": [
      "              precision    recall  f1-score   support\n",
      "\n",
      " Heavy Metal       0.71      0.50      0.59       202\n",
      "        Jazz       0.58      0.82      0.68        97\n",
      "         Pop       0.75      0.67      0.70       195\n",
      "   Punk Rock       0.54      0.66      0.60       211\n",
      " Rock n Roll       0.67      0.64      0.66       157\n",
      "\n",
      "    accuracy                           0.64       862\n",
      "   macro avg       0.65      0.66      0.65       862\n",
      "weighted avg       0.66      0.64      0.64       862\n",
      "\n",
      "Area bajo la curva ROC: 0.8715\n"
     ]
    },
    {
     "data": {
      "image/png": "[encoded data removed]",
      "text/plain": [
       "<Figure size 432x288 with 2 Axes>"
      ]
     },
     "metadata": {
      "needs_background": "light"
     },
     "output_type": "display_data"
    }
   ],
   "source": [
    "evaluate_model(cv_clf, X_test, y_test)"
   ]
  },
  {
   "cell_type": "code",
   "execution_count": 47,
   "metadata": {},
   "outputs": [],
   "source": [
    "#Arbol\n",
    "resultados_tree = [[\"Arbol\", accuracy_score(y_test,clftree.predict(X_test)), precision_score(y_test,clftree.predict(X_test), average=\"weighted\"), recall_score(y_test,clftree.predict(X_test), average=\"weighted\")]]\n",
    "resultados_tree_df = pd.DataFrame(resultados_tree, columns=[\"modelo\", \"accuracy\", \"precision\", \"recall\"])\n",
    "\n",
    "#Arbol Normalizado\n",
    "resultados_tree_std = [[\"Arbol Normalizado\", accuracy_score(y_test,clftree_std.predict(X_test_std)), precision_score(y_test,clftree_std.predict(X_test_std), average=\"weighted\"), recall_score(y_test,clftree_std.predict(X_test_std), average=\"weighted\")]]\n",
    "resultados_tree_std_df = pd.DataFrame(resultados_tree_std, columns=[\"modelo\", \"accuracy\", \"precision\", \"recall\"])\n",
    "\n",
    "#Arbol Grid\n",
    "resultados_tree_grid = [[\"Arbol Grid\", accuracy_score(y_test,cv_clf.predict(X_test)), precision_score(y_test,cv_clf.predict(X_test), average=\"weighted\"), recall_score(y_test,cv_clf.predict(X_test), average=\"weighted\")]]\n",
    "resultados_tree_grid_df = pd.DataFrame(resultados_tree_grid, columns=[\"modelo\", \"accuracy\", \"precision\", \"recall\"])\n",
    "\n",
    "#Tabla final\n",
    "resultados = resultados.append([resultados_tree_df, resultados_tree_std_df, resultados_tree_grid_df])\n",
    "resultados.reset_index(drop=True, inplace=True)"
   ]
  },
  {
   "cell_type": "code",
   "execution_count": 48,
   "metadata": {},
   "outputs": [
    {
     "data": {
      "text/html": [
       "<div>\n",
       "<style scoped>\n",
       "    .dataframe tbody tr th:only-of-type {\n",
       "        vertical-align: middle;\n",
       "    }\n",
       "\n",
       "    .dataframe tbody tr th {\n",
       "        vertical-align: top;\n",
       "    }\n",
       "\n",
       "    .dataframe thead th {\n",
       "        text-align: right;\n",
       "    }\n",
       "</style>\n",
       "<table border=\"1\" class=\"dataframe\">\n",
       "  <thead>\n",
       "    <tr style=\"text-align: right;\">\n",
       "      <th></th>\n",
       "      <th>modelo</th>\n",
       "      <th>accuracy</th>\n",
       "      <th>precision</th>\n",
       "      <th>recall</th>\n",
       "    </tr>\n",
       "  </thead>\n",
       "  <tbody>\n",
       "    <tr>\n",
       "      <th>0</th>\n",
       "      <td>Logistic Regression</td>\n",
       "      <td>0.690255</td>\n",
       "      <td>0.688326</td>\n",
       "      <td>0.690255</td>\n",
       "    </tr>\n",
       "    <tr>\n",
       "      <th>1</th>\n",
       "      <td>Logistic Regression Grid</td>\n",
       "      <td>0.691415</td>\n",
       "      <td>0.689566</td>\n",
       "      <td>0.691415</td>\n",
       "    </tr>\n",
       "    <tr>\n",
       "      <th>2</th>\n",
       "      <td>Naive Bayes</td>\n",
       "      <td>0.473318</td>\n",
       "      <td>0.510835</td>\n",
       "      <td>0.473318</td>\n",
       "    </tr>\n",
       "    <tr>\n",
       "      <th>3</th>\n",
       "      <td>Naive Bayes Normalizado</td>\n",
       "      <td>0.473318</td>\n",
       "      <td>0.510835</td>\n",
       "      <td>0.473318</td>\n",
       "    </tr>\n",
       "    <tr>\n",
       "      <th>4</th>\n",
       "      <td>Arbol</td>\n",
       "      <td>0.596288</td>\n",
       "      <td>0.601818</td>\n",
       "      <td>0.596288</td>\n",
       "    </tr>\n",
       "    <tr>\n",
       "      <th>5</th>\n",
       "      <td>Arbol Normalizado</td>\n",
       "      <td>0.597448</td>\n",
       "      <td>0.601601</td>\n",
       "      <td>0.597448</td>\n",
       "    </tr>\n",
       "    <tr>\n",
       "      <th>6</th>\n",
       "      <td>Arbol Grid</td>\n",
       "      <td>0.640371</td>\n",
       "      <td>0.656053</td>\n",
       "      <td>0.640371</td>\n",
       "    </tr>\n",
       "  </tbody>\n",
       "</table>\n",
       "</div>"
      ],
      "text/plain": [
       "                     modelo  accuracy  precision    recall\n",
       "0       Logistic Regression  0.690255   0.688326  0.690255\n",
       "1  Logistic Regression Grid  0.691415   0.689566  0.691415\n",
       "2               Naive Bayes  0.473318   0.510835  0.473318\n",
       "3   Naive Bayes Normalizado  0.473318   0.510835  0.473318\n",
       "4                     Arbol  0.596288   0.601818  0.596288\n",
       "5         Arbol Normalizado  0.597448   0.601601  0.597448\n",
       "6                Arbol Grid  0.640371   0.656053  0.640371"
      ]
     },
     "execution_count": 48,
     "metadata": {},
     "output_type": "execute_result"
    }
   ],
   "source": [
    "resultados"
   ]
  },
  {
   "cell_type": "code",
   "execution_count": 49,
   "metadata": {},
   "outputs": [
    {
     "data": {
      "image/png": "[encoded data removed]",
      "text/plain": [
       "<Figure size 1440x360 with 1 Axes>"
      ]
     },
     "metadata": {
      "needs_background": "light"
     },
     "output_type": "display_data"
    }
   ],
   "source": [
    "fig, ax = plt.subplots(figsize=(20,5)) \n",
    "ax = sns.barplot(x=resultados[\"modelo\"], y=resultados[\"accuracy\"])"
   ]
  },
  {
   "cell_type": "code",
   "execution_count": 50,
   "metadata": {},
   "outputs": [
    {
     "data": {
      "image/png": "[encoded data removed]",
      "text/plain": [
       "<Figure size 1440x360 with 1 Axes>"
      ]
     },
     "metadata": {
      "needs_background": "light"
     },
     "output_type": "display_data"
    }
   ],
   "source": [
    "fig, ax = plt.subplots(figsize=(20,5)) \n",
    "ax = sns.barplot(x=resultados[\"modelo\"], y=resultados[\"precision\"])"
   ]
  },
  {
   "cell_type": "code",
   "execution_count": 51,
   "metadata": {},
   "outputs": [
    {
     "data": {
      "image/png": "[encoded data removed]",
      "text/plain": [
       "<Figure size 1440x360 with 1 Axes>"
      ]
     },
     "metadata": {
      "needs_background": "light"
     },
     "output_type": "display_data"
    }
   ],
   "source": [
    "fig, ax = plt.subplots(figsize=(20,5)) \n",
    "ax = sns.barplot(x=resultados[\"modelo\"], y=resultados[\"recall\"])"
   ]
  },
  {
   "cell_type": "markdown",
   "metadata": {},
   "source": [
    "----------------------------------"
   ]
  },
  {
   "cell_type": "markdown",
   "metadata": {},
   "source": [
    "# <b><a id=\"cluster\">4. Clustering</a></b>"
   ]
  },
  {
   "cell_type": "code",
   "execution_count": 52,
   "metadata": {},
   "outputs": [],
   "source": [
    "#pca = PCA(n_components=2)\n",
    "#principalComponents1 = pca.fit_transform(X_train_std)\n",
    "#PCA_dataset1 = pd.DataFrame(data = principalComponents1, columns = ['component1', 'component2'] )\n",
    "#principal_component1 = PCA_dataset1['component1']\n",
    "#principal_component2 = PCA_dataset1['component2']"
   ]
  },
  {
   "cell_type": "code",
   "execution_count": 53,
   "metadata": {},
   "outputs": [],
   "source": [
    "#plt.figure()\n",
    "#plt.xlabel('Component 1')\n",
    "#plt.ylabel('Component 2')\n",
    "#plt.title('2 Component PCA')\n",
    "#plt.scatter(PCA_dataset1['component1'], PCA_dataset1['component2']) #c = y_kmeans, s=10)"
   ]
  },
  {
   "cell_type": "code",
   "execution_count": 54,
   "metadata": {},
   "outputs": [],
   "source": [
    "#kmeans = KMeans(n_clusters = 5, init = 'k-means++', random_state = 1)\n",
    "#y_kmeans = kmeans.fit_predict(principalComponents1)\n",
    "#labels = kmeans.labels_ # Etiquetas que indican a qué cluster pertenecen los datos\n",
    "#centroids = kmeans.cluster_centers_ # Coordenadas de los centroides"
   ]
  },
  {
   "cell_type": "code",
   "execution_count": 55,
   "metadata": {},
   "outputs": [],
   "source": [
    "#sns.scatterplot(x=principal_component1,y=principal_component2,hue=labels,legend='full',palette=sns.color_palette(\"hls\", 5));\n",
    "#plt.xlabel('Component 1',fontsize=15);plt.ylabel('Component 2',fontsize=15);\n",
    "#plt.scatter(centroids[:,0],centroids[:,1],marker='x',s=50,color='k');"
   ]
  },
  {
   "cell_type": "code",
   "execution_count": 56,
   "metadata": {},
   "outputs": [],
   "source": [
    "#data_clustering = data[['danceability', 'energy', 'loudness', 'mode', 'speechiness',\n",
    "#       'instrumentalness', 'valence', 'tempo', 'time_signature',\n",
    "#       'acousticness', 'anger', 'anticipation', 'disgust', 'fear', 'joy',\n",
    "#       'negative', 'positive', 'sadness', 'surprise', 'trust']]"
   ]
  },
  {
   "cell_type": "code",
   "execution_count": 57,
   "metadata": {},
   "outputs": [],
   "source": [
    "#k=5;\n",
    "#km=KMeans(n_clusters=k, init = 'k-means++', random_state=0)\n",
    "#km.fit(X)\n",
    "\n",
    "#data_filtered=data.loc[data_clustering.index];\n",
    "#f,ax=plt.subplots(2,3,figsize=(15,10),gridspec_kw={'wspace':0.5})\n",
    "#ax=ax.ravel();\n",
    "#for lbl in range(k):\n",
    "#    S=data_filtered.loc[km.labels_==lbl,'genre'].value_counts(normalize=True);\n",
    "#    chart=sns.barplot(y=S.index[:10],x=S.values[:10],ax=ax[lbl],orient='h')\n",
    "#    chart.set_title('Cluster '+str(lbl))"
   ]
  },
  {
   "cell_type": "code",
   "execution_count": 58,
   "metadata": {},
   "outputs": [],
   "source": [
    "#sq_distances=[]\n",
    "#k_values=range(2,15);\n",
    "\n",
    "#for k in k_values:\n",
    "#    kmeans=KMeans(n_clusters=k,n_init=10,random_state=0) # Numero de repeticiones=10\n",
    "#    kmeans.fit(X_train_std)\n",
    "#    sq_distances.append(kmeans.inertia_)\n",
    "\n",
    "#sns.lineplot(x=k_values,y=sq_distances,marker='o',size=30,legend=False);\n",
    "#plt.ylabel('Suma Distancias Cuadráticas');plt.xlabel('Número de clusters');"
   ]
  },
  {
   "cell_type": "code",
   "execution_count": 59,
   "metadata": {},
   "outputs": [],
   "source": [
    "#from sklearn.metrics import silhouette_score,silhouette_samples\n",
    "\n",
    "#sil=[]\n",
    "#k_values=range(2,15);\n",
    "\n",
    "#for k in k_values:\n",
    "#    kmeans=KMeans(n_clusters=k,n_init=15,random_state=0) # Numero de repeticiones=10\n",
    "#    kmeans.fit(X_train_std)\n",
    "#    score=silhouette_score(X_train_std,kmeans.labels_)\n",
    "#    sil.append(score)\n",
    "\n",
    "#sns.lineplot(x=k_values,y=sil,marker='o',size=30,legend=False);\n",
    "#plt.ylabel('Silhouette score',fontsize=15);plt.xlabel('Número de clusters',fontsize=15);"
   ]
  },
  {
   "cell_type": "code",
   "execution_count": 60,
   "metadata": {},
   "outputs": [],
   "source": [
    "#from sklearn.metrics import calinski_harabasz_score\n",
    "\n",
    "#k_values=range(2,15);\n",
    "#ch_scores=[]\n",
    "\n",
    "#for k in k_values:\n",
    "    \n",
    "#    kmeans=KMeans(n_clusters=k,n_init=15,random_state=0) # Numero de repeticiones=10\n",
    "#    kmeans.fit(X_train_std)\n",
    "#    score=calinski_harabasz_score(X_train_std,kmeans.labels_)\n",
    "#    ch_scores.append(score)\n",
    "\n",
    "#sns.lineplot(x=k_values,y=ch_scores,marker='o',size=30,legend=False);\n",
    "#plt.ylabel('Calinski-Harabasz',fontsize=15);plt.xlabel('Número de clusters',fontsize=15);\n"
   ]
  },
  {
   "cell_type": "code",
   "execution_count": null,
   "metadata": {},
   "outputs": [],
   "source": []
  },
  {
   "cell_type": "code",
   "execution_count": null,
   "metadata": {},
   "outputs": [],
   "source": []
  }
 ],
 "metadata": {
  "kernelspec": {
   "display_name": "Python 3",
   "language": "python",
   "name": "python3"
  },
  "language_info": {
   "codemirror_mode": {
    "name": "ipython",
    "version": 3
   },
   "file_extension": ".py",
   "mimetype": "text/x-python",
   "name": "python",
   "nbconvert_exporter": "python",
   "pygments_lexer": "ipython3",
   "version": "3.7.10"
  }
 },
 "nbformat": 4,
 "nbformat_minor": 4
}
