{
 "cells": [
  {
   "cell_type": "markdown",
   "metadata": {},
   "source": [
    "Trabajo final del curso de Data Science realizado en Febrero 2021.\n",
    "\n",
    "\n",
    "Se trabajó con un dataset armado con la API de Spotify, para obtener la información de las canciones, y la API de Genius, de la cual se consiguieron las letras. \n",
    "\n",
    "Se desarrollaron modelos de clasificación para determinar si se podía clasificar el género de una canción a partir de los parámetros que tiene Spotify en su sistema y su letra, y se implementaron modelos de regresión para predecir la valencia de la canción. La valencia es un parámtero que tienen todas las canciones de Spotify y describe la positividad musical que transmite una canción. Las canciones con valencia alta suenan más positivas (p. Ej., Feliz, alegre, eufórico), mientras que las canciones con valencia baja suenan más negativas (p. Ej., Triste, deprimido, enojado)”."
   ]
  },
  {
   "cell_type": "markdown",
   "metadata": {},
   "source": [
    "# Índice\n",
    "\n",
    "### <b><a href=\"#clasifgen\">1. Clasificador de género</a></b>\n",
    "#### <b><a href=\"#regresionlog\">1.1. Regresion Logistica</a></b>\n",
    "#### <b><a href=\"#naive\">1.2. Naive Bayes</a></b>\n",
    "#### <b><a href=\"#arbol\">1.3. Árboles</a></b>\n",
    "\n",
    "### <b><a href=\"#valence\">2. Predicción de valencia</a></b>\n",
    "#### <b><a href=\"#elastic\">2.1. ElasticNet</a></b>\n",
    "#### <b><a href=\"#lasso\">2.2. Lasso</a></b>\n",
    "#### <b><a href=\"#ridge\">2.3. Ridge</a></b>\n"
   ]
  },
  {
   "cell_type": "code",
   "execution_count": 1,
   "metadata": {},
   "outputs": [],
   "source": [
    "import pandas as pd\n",
    "import numpy as np\n",
    "import seaborn as sns\n",
    "from scipy.spatial.distance import pdist,squareform\n",
    "from sklearn.preprocessing import StandardScaler\n",
    "from sklearn.cluster import KMeans\n",
    "from sklearn.decomposition import PCA\n",
    "import matplotlib.pyplot as plt\n",
    "from sklearn.linear_model import LogisticRegression, LogisticRegressionCV\n",
    "from sklearn.model_selection import GridSearchCV, train_test_split, KFold\n",
    "from sklearn.metrics import accuracy_score,plot_confusion_matrix,roc_auc_score, classification_report, confusion_matrix, precision_recall_curve, auc, precision_score, recall_score, r2_score\n",
    "from sklearn.naive_bayes import GaussianNB\n",
    "from sklearn.metrics import roc_curve\n",
    "from sklearn.metrics import auc\n",
    "from sklearn.model_selection import StratifiedKFold\n",
    "from sklearn import linear_model\n",
    "from sklearn.linear_model import ElasticNetCV, LassoCV, RidgeClassifierCV, LinearRegression\n",
    "import statsmodels.formula.api as smf\n",
    "import statsmodels.api as sm\n",
    "from sklearn.preprocessing import OneHotEncoder"
   ]
  },
  {
   "cell_type": "markdown",
   "metadata": {},
   "source": [
    "# <b><a id=\"clasifgen\">1. Clasificador de género</a></b>"
   ]
  },
  {
   "cell_type": "markdown",
   "metadata": {},
   "source": [
    "### Lectura del dataset"
   ]
  },
  {
   "cell_type": "code",
   "execution_count": 2,
   "metadata": {},
   "outputs": [
    {
     "data": {
      "text/plain": [
       "(3445, 78)"
      ]
     },
     "execution_count": 2,
     "metadata": {},
     "output_type": "execute_result"
    }
   ],
   "source": [
    "data = pd.read_csv('./music_sentiments.csv', sep=\"\\t\")\n",
    "data.shape"
   ]
  },
  {
   "cell_type": "code",
   "execution_count": 3,
   "metadata": {},
   "outputs": [
    {
     "data": {
      "text/html": [
       "<div>\n",
       "<style scoped>\n",
       "    .dataframe tbody tr th:only-of-type {\n",
       "        vertical-align: middle;\n",
       "    }\n",
       "\n",
       "    .dataframe tbody tr th {\n",
       "        vertical-align: top;\n",
       "    }\n",
       "\n",
       "    .dataframe thead th {\n",
       "        text-align: right;\n",
       "    }\n",
       "</style>\n",
       "<table border=\"1\" class=\"dataframe\">\n",
       "  <thead>\n",
       "    <tr style=\"text-align: right;\">\n",
       "      <th></th>\n",
       "      <th>genre</th>\n",
       "      <th>artist</th>\n",
       "      <th>album</th>\n",
       "      <th>danceability</th>\n",
       "      <th>energy</th>\n",
       "      <th>loudness</th>\n",
       "      <th>mode</th>\n",
       "      <th>speechiness</th>\n",
       "      <th>instrumentalness</th>\n",
       "      <th>valence</th>\n",
       "      <th>...</th>\n",
       "      <th>anger_quantity</th>\n",
       "      <th>anticipation_quantity</th>\n",
       "      <th>disgust_quantity</th>\n",
       "      <th>fear_quantity</th>\n",
       "      <th>joy_quantity</th>\n",
       "      <th>negative_quantity</th>\n",
       "      <th>positive_quantity</th>\n",
       "      <th>sadness_quantity</th>\n",
       "      <th>surprise_quantity</th>\n",
       "      <th>trust_quantity</th>\n",
       "    </tr>\n",
       "  </thead>\n",
       "  <tbody>\n",
       "    <tr>\n",
       "      <th>0</th>\n",
       "      <td>Pop</td>\n",
       "      <td>Michael Jackson</td>\n",
       "      <td>Thriller 25 Super Deluxe Edition</td>\n",
       "      <td>0.920</td>\n",
       "      <td>0.654</td>\n",
       "      <td>-3.051</td>\n",
       "      <td>0</td>\n",
       "      <td>0.0401</td>\n",
       "      <td>0.015800</td>\n",
       "      <td>0.847</td>\n",
       "      <td>...</td>\n",
       "      <td>3</td>\n",
       "      <td>13</td>\n",
       "      <td>2</td>\n",
       "      <td>0</td>\n",
       "      <td>25</td>\n",
       "      <td>4</td>\n",
       "      <td>30</td>\n",
       "      <td>2</td>\n",
       "      <td>4</td>\n",
       "      <td>17</td>\n",
       "    </tr>\n",
       "    <tr>\n",
       "      <th>1</th>\n",
       "      <td>Pop</td>\n",
       "      <td>Michael Jackson</td>\n",
       "      <td>Bad 25th Anniversary</td>\n",
       "      <td>0.853</td>\n",
       "      <td>0.981</td>\n",
       "      <td>-3.947</td>\n",
       "      <td>1</td>\n",
       "      <td>0.0751</td>\n",
       "      <td>0.468000</td>\n",
       "      <td>0.595</td>\n",
       "      <td>...</td>\n",
       "      <td>6</td>\n",
       "      <td>7</td>\n",
       "      <td>2</td>\n",
       "      <td>9</td>\n",
       "      <td>6</td>\n",
       "      <td>14</td>\n",
       "      <td>8</td>\n",
       "      <td>2</td>\n",
       "      <td>6</td>\n",
       "      <td>6</td>\n",
       "    </tr>\n",
       "    <tr>\n",
       "      <th>2</th>\n",
       "      <td>Pop</td>\n",
       "      <td>Michael Jackson</td>\n",
       "      <td>Thriller 25 Super Deluxe Edition</td>\n",
       "      <td>0.779</td>\n",
       "      <td>0.867</td>\n",
       "      <td>-3.704</td>\n",
       "      <td>0</td>\n",
       "      <td>0.0457</td>\n",
       "      <td>0.000008</td>\n",
       "      <td>0.915</td>\n",
       "      <td>...</td>\n",
       "      <td>11</td>\n",
       "      <td>2</td>\n",
       "      <td>4</td>\n",
       "      <td>19</td>\n",
       "      <td>1</td>\n",
       "      <td>37</td>\n",
       "      <td>4</td>\n",
       "      <td>19</td>\n",
       "      <td>1</td>\n",
       "      <td>5</td>\n",
       "    </tr>\n",
       "    <tr>\n",
       "      <th>3</th>\n",
       "      <td>Pop</td>\n",
       "      <td>Michael Jackson</td>\n",
       "      <td>Bad 25th Anniversary</td>\n",
       "      <td>0.877</td>\n",
       "      <td>0.854</td>\n",
       "      <td>-4.523</td>\n",
       "      <td>1</td>\n",
       "      <td>0.1470</td>\n",
       "      <td>0.000055</td>\n",
       "      <td>0.540</td>\n",
       "      <td>...</td>\n",
       "      <td>12</td>\n",
       "      <td>6</td>\n",
       "      <td>12</td>\n",
       "      <td>17</td>\n",
       "      <td>19</td>\n",
       "      <td>15</td>\n",
       "      <td>23</td>\n",
       "      <td>15</td>\n",
       "      <td>1</td>\n",
       "      <td>5</td>\n",
       "    </tr>\n",
       "    <tr>\n",
       "      <th>4</th>\n",
       "      <td>Pop</td>\n",
       "      <td>Michael Jackson</td>\n",
       "      <td>Scream</td>\n",
       "      <td>0.764</td>\n",
       "      <td>0.887</td>\n",
       "      <td>-3.726</td>\n",
       "      <td>1</td>\n",
       "      <td>0.0744</td>\n",
       "      <td>0.000110</td>\n",
       "      <td>0.720</td>\n",
       "      <td>...</td>\n",
       "      <td>16</td>\n",
       "      <td>25</td>\n",
       "      <td>11</td>\n",
       "      <td>31</td>\n",
       "      <td>19</td>\n",
       "      <td>30</td>\n",
       "      <td>21</td>\n",
       "      <td>14</td>\n",
       "      <td>17</td>\n",
       "      <td>13</td>\n",
       "    </tr>\n",
       "  </tbody>\n",
       "</table>\n",
       "<p>5 rows × 78 columns</p>\n",
       "</div>"
      ],
      "text/plain": [
       "  genre           artist                             album  danceability  \\\n",
       "0   Pop  Michael Jackson  Thriller 25 Super Deluxe Edition         0.920   \n",
       "1   Pop  Michael Jackson              Bad 25th Anniversary         0.853   \n",
       "2   Pop  Michael Jackson  Thriller 25 Super Deluxe Edition         0.779   \n",
       "3   Pop  Michael Jackson              Bad 25th Anniversary         0.877   \n",
       "4   Pop  Michael Jackson                            Scream         0.764   \n",
       "\n",
       "   energy  loudness  mode  speechiness  instrumentalness  valence  ...  \\\n",
       "0   0.654    -3.051     0       0.0401          0.015800    0.847  ...   \n",
       "1   0.981    -3.947     1       0.0751          0.468000    0.595  ...   \n",
       "2   0.867    -3.704     0       0.0457          0.000008    0.915  ...   \n",
       "3   0.854    -4.523     1       0.1470          0.000055    0.540  ...   \n",
       "4   0.887    -3.726     1       0.0744          0.000110    0.720  ...   \n",
       "\n",
       "   anger_quantity  anticipation_quantity  disgust_quantity  fear_quantity  \\\n",
       "0               3                     13                 2              0   \n",
       "1               6                      7                 2              9   \n",
       "2              11                      2                 4             19   \n",
       "3              12                      6                12             17   \n",
       "4              16                     25                11             31   \n",
       "\n",
       "  joy_quantity  negative_quantity  positive_quantity sadness_quantity  \\\n",
       "0           25                  4                 30                2   \n",
       "1            6                 14                  8                2   \n",
       "2            1                 37                  4               19   \n",
       "3           19                 15                 23               15   \n",
       "4           19                 30                 21               14   \n",
       "\n",
       "   surprise_quantity  trust_quantity  \n",
       "0                  4              17  \n",
       "1                  6               6  \n",
       "2                  1               5  \n",
       "3                  1               5  \n",
       "4                 17              13  \n",
       "\n",
       "[5 rows x 78 columns]"
      ]
     },
     "execution_count": 3,
     "metadata": {},
     "output_type": "execute_result"
    }
   ],
   "source": [
    "data.head(5)"
   ]
  },
  {
   "cell_type": "code",
   "execution_count": 4,
   "metadata": {},
   "outputs": [],
   "source": [
    "data.drop(columns=[\"artist\", \"album\", \"tokens\", \"char_count\", \"ignore_track\", \"track_name_clean\", \"album_release_year\"], inplace=True)"
   ]
  },
  {
   "cell_type": "code",
   "execution_count": 5,
   "metadata": {},
   "outputs": [
    {
     "data": {
      "text/plain": [
       "<AxesSubplot:>"
      ]
     },
     "execution_count": 5,
     "metadata": {},
     "output_type": "execute_result"
    },
    {
     "data": {
      "image/png": "[encoded data removed]",
      "text/plain": [
       "<Figure size 432x288 with 2 Axes>"
      ]
     },
     "metadata": {
      "needs_background": "light"
     },
     "output_type": "display_data"
    }
   ],
   "source": [
    "sns.heatmap(data.corr(), vmin=-1, vmax=1, center=0, cmap=\"YlGnBu\")"
   ]
  },
  {
   "cell_type": "markdown",
   "metadata": {},
   "source": [
    "### Features, Variable Target y Normalización"
   ]
  },
  {
   "cell_type": "code",
   "execution_count": 6,
   "metadata": {},
   "outputs": [],
   "source": [
    "X = data.drop(columns=[\"genre\"])\n",
    "y = data[\"genre\"]"
   ]
  },
  {
   "cell_type": "code",
   "execution_count": 7,
   "metadata": {},
   "outputs": [],
   "source": [
    "X_train, X_test, y_train, y_test = train_test_split(X, y, stratify=y, random_state = 0)"
   ]
  },
  {
   "cell_type": "code",
   "execution_count": 8,
   "metadata": {},
   "outputs": [],
   "source": [
    "scaler = StandardScaler()\n",
    "X_train_std = scaler.fit_transform(X_train)\n",
    "X_test_std = scaler.transform(X_test)"
   ]
  },
  {
   "cell_type": "markdown",
   "metadata": {},
   "source": [
    "### Función para evaluar modelos"
   ]
  },
  {
   "cell_type": "code",
   "execution_count": 9,
   "metadata": {},
   "outputs": [],
   "source": [
    "def evaluate_model(model,X,y_true):\n",
    "    '''\n",
    "    Calcula las métricas ppales para evaluar un clasificador\n",
    "    Toma como imput el modelo entrenado, el dataset de testeo y sus etiquetas\n",
    "    '''\n",
    "    y_pred=model.predict(X)\n",
    "    y_proba=model.predict_proba(X)\n",
    "\n",
    "    print(classification_report(y_true,y_pred))\n",
    "    print('Area bajo la curva ROC:',np.round(roc_auc_score(y_true, y_proba, multi_class=\"ovo\"),4))\n",
    "    plot_confusion_matrix(model,X,y_true,cmap='Blues');\n",
    "    return"
   ]
  },
  {
   "cell_type": "markdown",
   "metadata": {},
   "source": [
    "----------------------------------"
   ]
  },
  {
   "cell_type": "markdown",
   "metadata": {},
   "source": [
    "## <b><a id=\"regresionlog\">1.1. Regresion Logistica</a></b>"
   ]
  },
  {
   "cell_type": "code",
   "execution_count": 10,
   "metadata": {},
   "outputs": [
    {
     "data": {
      "text/plain": [
       "LogisticRegression(max_iter=1000)"
      ]
     },
     "execution_count": 10,
     "metadata": {},
     "output_type": "execute_result"
    }
   ],
   "source": [
    "lr = LogisticRegression(max_iter=1000)\n",
    "lr.fit(X_train_std, y_train)"
   ]
  },
  {
   "cell_type": "code",
   "execution_count": 11,
   "metadata": {},
   "outputs": [],
   "source": [
    "y_pred=lr.predict(X_test_std)\n",
    "y_proba=lr.predict_proba(X_test_std)"
   ]
  },
  {
   "cell_type": "code",
   "execution_count": 12,
   "metadata": {},
   "outputs": [
    {
     "data": {
      "text/plain": [
       "0.7502903600464577"
      ]
     },
     "execution_count": 12,
     "metadata": {},
     "output_type": "execute_result"
    }
   ],
   "source": [
    "accuracy_score(y_train, lr.predict(X_train_std))"
   ]
  },
  {
   "cell_type": "code",
   "execution_count": 13,
   "metadata": {},
   "outputs": [
    {
     "name": "stdout",
     "output_type": "stream",
     "text": [
      "              precision    recall  f1-score   support\n",
      "\n",
      " Heavy Metal       0.65      0.60      0.62       202\n",
      "        Jazz       0.70      0.73      0.72        97\n",
      "         Pop       0.82      0.86      0.84       195\n",
      "   Punk Rock       0.57      0.58      0.58       211\n",
      " Rock n Roll       0.72      0.72      0.72       157\n",
      "\n",
      "    accuracy                           0.69       862\n",
      "   macro avg       0.69      0.70      0.70       862\n",
      "weighted avg       0.69      0.69      0.69       862\n",
      "\n",
      "Area bajo la curva ROC: 0.9235\n"
     ]
    },
    {
     "data": {
      "image/png": "[encoded data removed]",
      "text/plain": [
       "<Figure size 432x288 with 2 Axes>"
      ]
     },
     "metadata": {
      "needs_background": "light"
     },
     "output_type": "display_data"
    }
   ],
   "source": [
    "evaluate_model(lr, X_test_std, y_test)"
   ]
  },
  {
   "cell_type": "markdown",
   "metadata": {},
   "source": [
    "#### <b><a id=\"regresionloggrid\">1.1.2 GridSearch</a></b>"
   ]
  },
  {
   "cell_type": "code",
   "execution_count": 14,
   "metadata": {},
   "outputs": [],
   "source": [
    "param_grid_lr = {'C': [1, 10, 100, 1000, 10000, 100000],\n",
    "     'penalty': [\"l2\"],\n",
    "     'solver': ['saga', \"lbfgs\"]}"
   ]
  },
  {
   "cell_type": "code",
   "execution_count": 15,
   "metadata": {},
   "outputs": [],
   "source": [
    "folds = StratifiedKFold(n_splits=5, random_state=19, shuffle=True)"
   ]
  },
  {
   "cell_type": "code",
   "execution_count": 16,
   "metadata": {},
   "outputs": [],
   "source": [
    "grid_lr = GridSearchCV(lr, param_grid_lr, cv=folds, scoring='accuracy', n_jobs=-2)"
   ]
  },
  {
   "cell_type": "code",
   "execution_count": 17,
   "metadata": {},
   "outputs": [],
   "source": [
    "lr_fiteado = grid_lr.fit(X_train_std, y_train)"
   ]
  },
  {
   "cell_type": "code",
   "execution_count": 18,
   "metadata": {},
   "outputs": [
    {
     "data": {
      "text/plain": [
       "{'C': 1, 'penalty': 'l2', 'solver': 'saga'}"
      ]
     },
     "execution_count": 18,
     "metadata": {},
     "output_type": "execute_result"
    }
   ],
   "source": [
    "grid_lr.best_params_"
   ]
  },
  {
   "cell_type": "code",
   "execution_count": 19,
   "metadata": {},
   "outputs": [
    {
     "data": {
      "text/plain": [
       "0.7069452566236336"
      ]
     },
     "execution_count": 19,
     "metadata": {},
     "output_type": "execute_result"
    }
   ],
   "source": [
    "grid_lr.best_score_"
   ]
  },
  {
   "cell_type": "code",
   "execution_count": 20,
   "metadata": {},
   "outputs": [
    {
     "name": "stdout",
     "output_type": "stream",
     "text": [
      "              precision    recall  f1-score   support\n",
      "\n",
      " Heavy Metal       0.65      0.60      0.62       202\n",
      "        Jazz       0.70      0.73      0.72        97\n",
      "         Pop       0.83      0.86      0.84       195\n",
      "   Punk Rock       0.57      0.58      0.58       211\n",
      " Rock n Roll       0.72      0.73      0.72       157\n",
      "\n",
      "    accuracy                           0.69       862\n",
      "   macro avg       0.69      0.70      0.70       862\n",
      "weighted avg       0.69      0.69      0.69       862\n",
      "\n",
      "Area bajo la curva ROC: 0.9236\n"
     ]
    },
    {
     "data": {
      "image/png": "[encoded data removed]",
      "text/plain": [
       "<Figure size 432x288 with 2 Axes>"
      ]
     },
     "metadata": {
      "needs_background": "light"
     },
     "output_type": "display_data"
    }
   ],
   "source": [
    "evaluate_model(grid_lr, X_test_std, y_test)"
   ]
  },
  {
   "cell_type": "code",
   "execution_count": 21,
   "metadata": {},
   "outputs": [],
   "source": [
    "#logistic Regression\n",
    "resultados_lr = [[\"Logistic Regression\", accuracy_score(y_test,lr.predict(X_test_std)), precision_score(y_test,lr.predict(X_test_std), average=\"weighted\"), recall_score(y_test,lr.predict(X_test_std), average=\"weighted\")]]\n",
    "resultados = pd.DataFrame(resultados_lr, columns=[\"modelo\", \"accuracy\", \"precision\", \"recall\"])\n",
    "\n",
    "#Logistic Regression Grid\n",
    "resultados_grid_lr = [[\"Logistic Regression Grid\", accuracy_score(y_test,grid_lr.predict(X_test_std)), precision_score(y_test,grid_lr.predict(X_test_std), average=\"weighted\"), recall_score(y_test,grid_lr.predict(X_test_std), average=\"weighted\")]]\n",
    "resultados_grid_lr_df = pd.DataFrame(resultados_grid_lr, columns=[\"modelo\", \"accuracy\", \"precision\", \"recall\"])\n",
    "\n",
    "#Tabla final\n",
    "resultados = resultados.append(resultados_grid_lr_df)"
   ]
  },
  {
   "cell_type": "markdown",
   "metadata": {},
   "source": [
    "----------------------------------"
   ]
  },
  {
   "cell_type": "markdown",
   "metadata": {},
   "source": [
    "## <b><a id=\"naive\">1.2. Naive Bayes</a></b>"
   ]
  },
  {
   "cell_type": "markdown",
   "metadata": {},
   "source": [
    "#### 1.2.1. Sin normalización"
   ]
  },
  {
   "cell_type": "code",
   "execution_count": 22,
   "metadata": {},
   "outputs": [
    {
     "data": {
      "text/plain": [
       "GaussianNB()"
      ]
     },
     "execution_count": 22,
     "metadata": {},
     "output_type": "execute_result"
    }
   ],
   "source": [
    "gnb = GaussianNB()\n",
    "gnb.fit(X_train, y_train)"
   ]
  },
  {
   "cell_type": "code",
   "execution_count": 23,
   "metadata": {},
   "outputs": [
    {
     "name": "stdout",
     "output_type": "stream",
     "text": [
      "Accuracy test sin normalizar 0.4733178654292343\n",
      "Accuracy train sin normalizar 0.49516066589237323\n"
     ]
    }
   ],
   "source": [
    "y_pred = gnb.predict(X_test)\n",
    "y_pred_train = gnb.predict(X_train)\n",
    "print(\"Accuracy test sin normalizar\", accuracy_score(y_test, y_pred))\n",
    "print(\"Accuracy train sin normalizar\", accuracy_score(y_train, y_pred_train))"
   ]
  },
  {
   "cell_type": "markdown",
   "metadata": {},
   "source": [
    "#### 1.2.2. Con normalización"
   ]
  },
  {
   "cell_type": "code",
   "execution_count": 24,
   "metadata": {},
   "outputs": [
    {
     "data": {
      "text/plain": [
       "GaussianNB()"
      ]
     },
     "execution_count": 24,
     "metadata": {},
     "output_type": "execute_result"
    }
   ],
   "source": [
    "gnb_std = GaussianNB()\n",
    "gnb_std.fit(X_train_std, y_train)"
   ]
  },
  {
   "cell_type": "code",
   "execution_count": 25,
   "metadata": {},
   "outputs": [
    {
     "name": "stdout",
     "output_type": "stream",
     "text": [
      "Accuracy train con normalización 0.49516066589237323\n"
     ]
    }
   ],
   "source": [
    "y_pred_train_std = gnb_std.predict(X_train_std)\n",
    "print(\"Accuracy train con normalización\", accuracy_score(y_train, y_pred_train_std))"
   ]
  },
  {
   "cell_type": "code",
   "execution_count": 26,
   "metadata": {},
   "outputs": [
    {
     "name": "stdout",
     "output_type": "stream",
     "text": [
      "              precision    recall  f1-score   support\n",
      "\n",
      " Heavy Metal       0.58      0.50      0.54       202\n",
      "        Jazz       0.43      0.82      0.57        97\n",
      "         Pop       0.67      0.43      0.52       195\n",
      "   Punk Rock       0.45      0.24      0.31       211\n",
      " Rock n Roll       0.35      0.59      0.44       157\n",
      "\n",
      "    accuracy                           0.47       862\n",
      "   macro avg       0.50      0.52      0.48       862\n",
      "weighted avg       0.51      0.47      0.46       862\n",
      "\n",
      "Area bajo la curva ROC: 0.8119\n"
     ]
    },
    {
     "data": {
      "image/png": "[encoded data removed]",
      "text/plain": [
       "<Figure size 432x288 with 2 Axes>"
      ]
     },
     "metadata": {
      "needs_background": "light"
     },
     "output_type": "display_data"
    }
   ],
   "source": [
    "evaluate_model(gnb_std, X_test_std, y_test)"
   ]
  },
  {
   "cell_type": "code",
   "execution_count": 27,
   "metadata": {},
   "outputs": [],
   "source": [
    "#Naive Bayes\n",
    "resultados_gnb = [[\"Naive Bayes\", accuracy_score(y_test,gnb.predict(X_test)), precision_score(y_test,gnb.predict(X_test), average=\"weighted\"), recall_score(y_test,gnb.predict(X_test), average=\"weighted\")]]\n",
    "resultados_gnb_df = pd.DataFrame(resultados_gnb, columns=[\"modelo\", \"accuracy\", \"precision\", \"recall\"])\n",
    "\n",
    "#Naive Bayes Normalizado\n",
    "resultados_gnb_std = [[\"Naive Bayes Normalizado\", accuracy_score(y_test,gnb_std.predict(X_test_std)), precision_score(y_test,gnb_std.predict(X_test_std), average=\"weighted\"), recall_score(y_test,gnb_std.predict(X_test_std), average=\"weighted\")]]\n",
    "resultados_gnb_std_df = pd.DataFrame(resultados_gnb_std, columns=[\"modelo\", \"accuracy\", \"precision\", \"recall\"])\n",
    "\n",
    "#Tabla final\n",
    "resultados = resultados.append([resultados_gnb_df,resultados_gnb_std_df])"
   ]
  },
  {
   "cell_type": "markdown",
   "metadata": {},
   "source": [
    "----------------------------------"
   ]
  },
  {
   "cell_type": "markdown",
   "metadata": {},
   "source": [
    "## <b><a id=\"arbol\">1.3. Árboles</a></b>"
   ]
  },
  {
   "cell_type": "markdown",
   "metadata": {},
   "source": [
    "#### 1.3.1. Sin normalización"
   ]
  },
  {
   "cell_type": "code",
   "execution_count": 28,
   "metadata": {},
   "outputs": [],
   "source": [
    "from sklearn import tree\n",
    "clftree = tree.DecisionTreeClassifier(random_state=40)"
   ]
  },
  {
   "cell_type": "code",
   "execution_count": 29,
   "metadata": {},
   "outputs": [
    {
     "data": {
      "text/plain": [
       "DecisionTreeClassifier(random_state=40)"
      ]
     },
     "execution_count": 29,
     "metadata": {},
     "output_type": "execute_result"
    }
   ],
   "source": [
    "clftree.fit(X_train, y_train)"
   ]
  },
  {
   "cell_type": "code",
   "execution_count": 30,
   "metadata": {},
   "outputs": [],
   "source": [
    "y_train_pred_tree = clftree.predict(X_train)\n",
    "y_test_pred_tree = clftree.predict(X_test)"
   ]
  },
  {
   "cell_type": "code",
   "execution_count": 31,
   "metadata": {},
   "outputs": [
    {
     "data": {
      "text/plain": [
       "1.0"
      ]
     },
     "execution_count": 31,
     "metadata": {},
     "output_type": "execute_result"
    }
   ],
   "source": [
    "accuracy_score(y_train, y_train_pred_tree)"
   ]
  },
  {
   "cell_type": "code",
   "execution_count": 32,
   "metadata": {},
   "outputs": [
    {
     "name": "stdout",
     "output_type": "stream",
     "text": [
      "              precision    recall  f1-score   support\n",
      "\n",
      " Heavy Metal       0.64      0.52      0.57       202\n",
      "        Jazz       0.62      0.62      0.62        97\n",
      "         Pop       0.68      0.67      0.68       195\n",
      "   Punk Rock       0.48      0.54      0.51       211\n",
      " Rock n Roll       0.60      0.68      0.64       157\n",
      "\n",
      "    accuracy                           0.60       862\n",
      "   macro avg       0.61      0.60      0.60       862\n",
      "weighted avg       0.60      0.60      0.60       862\n",
      "\n",
      "Area bajo la curva ROC: 0.752\n"
     ]
    },
    {
     "data": {
      "image/png": "[encoded data removed]",
      "text/plain": [
       "<Figure size 432x288 with 2 Axes>"
      ]
     },
     "metadata": {
      "needs_background": "light"
     },
     "output_type": "display_data"
    }
   ],
   "source": [
    "evaluate_model(clftree, X_test, y_test)"
   ]
  },
  {
   "cell_type": "markdown",
   "metadata": {},
   "source": [
    "#### 1.3.2. Con normalización"
   ]
  },
  {
   "cell_type": "code",
   "execution_count": 33,
   "metadata": {},
   "outputs": [],
   "source": [
    "clftree_std = tree.DecisionTreeClassifier(random_state=40)"
   ]
  },
  {
   "cell_type": "code",
   "execution_count": 34,
   "metadata": {},
   "outputs": [
    {
     "data": {
      "text/plain": [
       "DecisionTreeClassifier(random_state=40)"
      ]
     },
     "execution_count": 34,
     "metadata": {},
     "output_type": "execute_result"
    }
   ],
   "source": [
    "clftree_std.fit(X_train_std, y_train)"
   ]
  },
  {
   "cell_type": "code",
   "execution_count": 35,
   "metadata": {},
   "outputs": [],
   "source": [
    "y_train_pred_tree_std = clftree_std.predict(X_train_std)\n",
    "y_test_pred_tree_std = clftree_std.predict(X_test_std)"
   ]
  },
  {
   "cell_type": "code",
   "execution_count": 36,
   "metadata": {},
   "outputs": [
    {
     "data": {
      "text/plain": [
       "1.0"
      ]
     },
     "execution_count": 36,
     "metadata": {},
     "output_type": "execute_result"
    }
   ],
   "source": [
    "accuracy_score(y_train, y_train_pred_tree_std)"
   ]
  },
  {
   "cell_type": "code",
   "execution_count": 37,
   "metadata": {},
   "outputs": [
    {
     "name": "stdout",
     "output_type": "stream",
     "text": [
      "              precision    recall  f1-score   support\n",
      "\n",
      " Heavy Metal       0.61      0.55      0.58       202\n",
      "        Jazz       0.66      0.67      0.66        97\n",
      "         Pop       0.71      0.67      0.69       195\n",
      "   Punk Rock       0.46      0.49      0.48       211\n",
      " Rock n Roll       0.60      0.67      0.63       157\n",
      "\n",
      "    accuracy                           0.60       862\n",
      "   macro avg       0.61      0.61      0.61       862\n",
      "weighted avg       0.60      0.60      0.60       862\n",
      "\n",
      "Area bajo la curva ROC: 0.756\n"
     ]
    },
    {
     "data": {
      "image/png": "[encoded data removed]",
      "text/plain": [
       "<Figure size 432x288 with 2 Axes>"
      ]
     },
     "metadata": {
      "needs_background": "light"
     },
     "output_type": "display_data"
    }
   ],
   "source": [
    "evaluate_model(clftree_std, X_test_std, y_test)"
   ]
  },
  {
   "cell_type": "markdown",
   "metadata": {},
   "source": [
    "#### 1.3.3. GridSearch"
   ]
  },
  {
   "cell_type": "code",
   "execution_count": 38,
   "metadata": {},
   "outputs": [],
   "source": [
    "params_grid = { \"criterion\" : [\"gini\", \"entropy\"],\n",
    "                \"min_samples_leaf\": [5,10,15,20,None], \n",
    "                \"max_depth\" : [1,2,3,4,5,6,8,9,10,11,12,13,14,None],\n",
    "                \"min_samples_split\": [2, 3, 4,None]}"
   ]
  },
  {
   "cell_type": "code",
   "execution_count": 39,
   "metadata": {},
   "outputs": [],
   "source": [
    "grid_search = GridSearchCV(clftree, params_grid,\n",
    "                           n_jobs=-2, scoring='accuracy')"
   ]
  },
  {
   "cell_type": "code",
   "execution_count": 40,
   "metadata": {},
   "outputs": [
    {
     "data": {
      "text/plain": [
       "GridSearchCV(estimator=DecisionTreeClassifier(random_state=40), n_jobs=-2,\n",
       "             param_grid={'criterion': ['gini', 'entropy'],\n",
       "                         'max_depth': [1, 2, 3, 4, 5, 6, 8, 9, 10, 11, 12, 13,\n",
       "                                       14, None],\n",
       "                         'min_samples_leaf': [5, 10, 15, 20, None],\n",
       "                         'min_samples_split': [2, 3, 4, None]},\n",
       "             scoring='accuracy')"
      ]
     },
     "execution_count": 40,
     "metadata": {},
     "output_type": "execute_result"
    }
   ],
   "source": [
    "grid_search.fit(X_train, y_train)"
   ]
  },
  {
   "cell_type": "code",
   "execution_count": 41,
   "metadata": {},
   "outputs": [
    {
     "data": {
      "text/plain": [
       "0.65002474022761"
      ]
     },
     "execution_count": 41,
     "metadata": {},
     "output_type": "execute_result"
    }
   ],
   "source": [
    "#Score durante el entrenamiento.\n",
    "grid_search.best_score_"
   ]
  },
  {
   "cell_type": "code",
   "execution_count": 42,
   "metadata": {},
   "outputs": [
    {
     "data": {
      "text/plain": [
       "{'criterion': 'gini',\n",
       " 'max_depth': 6,\n",
       " 'min_samples_leaf': 5,\n",
       " 'min_samples_split': 2}"
      ]
     },
     "execution_count": 42,
     "metadata": {},
     "output_type": "execute_result"
    }
   ],
   "source": [
    "grid_search.best_params_ "
   ]
  },
  {
   "cell_type": "code",
   "execution_count": 43,
   "metadata": {},
   "outputs": [],
   "source": [
    "cv_clf = grid_search.best_estimator_"
   ]
  },
  {
   "cell_type": "code",
   "execution_count": 44,
   "metadata": {},
   "outputs": [
    {
     "data": {
      "text/plain": [
       "DecisionTreeClassifier(max_depth=6, min_samples_leaf=5, random_state=40)"
      ]
     },
     "execution_count": 44,
     "metadata": {},
     "output_type": "execute_result"
    }
   ],
   "source": [
    "cv_clf"
   ]
  },
  {
   "cell_type": "code",
   "execution_count": 45,
   "metadata": {},
   "outputs": [
    {
     "name": "stdout",
     "output_type": "stream",
     "text": [
      "              precision    recall  f1-score   support\n",
      "\n",
      " Heavy Metal       0.71      0.50      0.59       202\n",
      "        Jazz       0.58      0.82      0.68        97\n",
      "         Pop       0.75      0.67      0.70       195\n",
      "   Punk Rock       0.54      0.66      0.60       211\n",
      " Rock n Roll       0.67      0.64      0.66       157\n",
      "\n",
      "    accuracy                           0.64       862\n",
      "   macro avg       0.65      0.66      0.65       862\n",
      "weighted avg       0.66      0.64      0.64       862\n",
      "\n",
      "Area bajo la curva ROC: 0.8715\n"
     ]
    },
    {
     "data": {
      "image/png": "[encoded data removed]",
      "text/plain": [
       "<Figure size 432x288 with 2 Axes>"
      ]
     },
     "metadata": {
      "needs_background": "light"
     },
     "output_type": "display_data"
    }
   ],
   "source": [
    "evaluate_model(cv_clf, X_test, y_test)"
   ]
  },
  {
   "cell_type": "code",
   "execution_count": 46,
   "metadata": {},
   "outputs": [],
   "source": [
    "#Arbol\n",
    "resultados_tree = [[\"Arbol\", accuracy_score(y_test,clftree.predict(X_test)), precision_score(y_test,clftree.predict(X_test), average=\"weighted\"), recall_score(y_test,clftree.predict(X_test), average=\"weighted\")]]\n",
    "resultados_tree_df = pd.DataFrame(resultados_tree, columns=[\"modelo\", \"accuracy\", \"precision\", \"recall\"])\n",
    "\n",
    "#Arbol Normalizado\n",
    "resultados_tree_std = [[\"Arbol Normalizado\", accuracy_score(y_test,clftree_std.predict(X_test_std)), precision_score(y_test,clftree_std.predict(X_test_std), average=\"weighted\"), recall_score(y_test,clftree_std.predict(X_test_std), average=\"weighted\")]]\n",
    "resultados_tree_std_df = pd.DataFrame(resultados_tree_std, columns=[\"modelo\", \"accuracy\", \"precision\", \"recall\"])\n",
    "\n",
    "#Arbol Grid\n",
    "resultados_tree_grid = [[\"Arbol Grid\", accuracy_score(y_test,cv_clf.predict(X_test)), precision_score(y_test,cv_clf.predict(X_test), average=\"weighted\"), recall_score(y_test,cv_clf.predict(X_test), average=\"weighted\")]]\n",
    "resultados_tree_grid_df = pd.DataFrame(resultados_tree_grid, columns=[\"modelo\", \"accuracy\", \"precision\", \"recall\"])\n",
    "\n",
    "#Tabla final\n",
    "resultados = resultados.append([resultados_tree_df, resultados_tree_std_df, resultados_tree_grid_df])\n",
    "resultados.reset_index(drop=True, inplace=True)"
   ]
  },
  {
   "cell_type": "markdown",
   "metadata": {},
   "source": [
    "----------------------------------"
   ]
  },
  {
   "cell_type": "markdown",
   "metadata": {},
   "source": [
    "#### Resumen de resultados de los clasificadores"
   ]
  },
  {
   "cell_type": "code",
   "execution_count": 47,
   "metadata": {},
   "outputs": [
    {
     "data": {
      "text/html": [
       "<div>\n",
       "<style scoped>\n",
       "    .dataframe tbody tr th:only-of-type {\n",
       "        vertical-align: middle;\n",
       "    }\n",
       "\n",
       "    .dataframe tbody tr th {\n",
       "        vertical-align: top;\n",
       "    }\n",
       "\n",
       "    .dataframe thead th {\n",
       "        text-align: right;\n",
       "    }\n",
       "</style>\n",
       "<table border=\"1\" class=\"dataframe\">\n",
       "  <thead>\n",
       "    <tr style=\"text-align: right;\">\n",
       "      <th></th>\n",
       "      <th>modelo</th>\n",
       "      <th>accuracy</th>\n",
       "      <th>precision</th>\n",
       "      <th>recall</th>\n",
       "    </tr>\n",
       "  </thead>\n",
       "  <tbody>\n",
       "    <tr>\n",
       "      <th>0</th>\n",
       "      <td>Logistic Regression</td>\n",
       "      <td>0.690255</td>\n",
       "      <td>0.688326</td>\n",
       "      <td>0.690255</td>\n",
       "    </tr>\n",
       "    <tr>\n",
       "      <th>1</th>\n",
       "      <td>Logistic Regression Grid</td>\n",
       "      <td>0.691415</td>\n",
       "      <td>0.689566</td>\n",
       "      <td>0.691415</td>\n",
       "    </tr>\n",
       "    <tr>\n",
       "      <th>2</th>\n",
       "      <td>Naive Bayes</td>\n",
       "      <td>0.473318</td>\n",
       "      <td>0.510835</td>\n",
       "      <td>0.473318</td>\n",
       "    </tr>\n",
       "    <tr>\n",
       "      <th>3</th>\n",
       "      <td>Naive Bayes Normalizado</td>\n",
       "      <td>0.473318</td>\n",
       "      <td>0.510835</td>\n",
       "      <td>0.473318</td>\n",
       "    </tr>\n",
       "    <tr>\n",
       "      <th>4</th>\n",
       "      <td>Arbol</td>\n",
       "      <td>0.596288</td>\n",
       "      <td>0.601818</td>\n",
       "      <td>0.596288</td>\n",
       "    </tr>\n",
       "    <tr>\n",
       "      <th>5</th>\n",
       "      <td>Arbol Normalizado</td>\n",
       "      <td>0.597448</td>\n",
       "      <td>0.601601</td>\n",
       "      <td>0.597448</td>\n",
       "    </tr>\n",
       "    <tr>\n",
       "      <th>6</th>\n",
       "      <td>Arbol Grid</td>\n",
       "      <td>0.640371</td>\n",
       "      <td>0.656053</td>\n",
       "      <td>0.640371</td>\n",
       "    </tr>\n",
       "  </tbody>\n",
       "</table>\n",
       "</div>"
      ],
      "text/plain": [
       "                     modelo  accuracy  precision    recall\n",
       "0       Logistic Regression  0.690255   0.688326  0.690255\n",
       "1  Logistic Regression Grid  0.691415   0.689566  0.691415\n",
       "2               Naive Bayes  0.473318   0.510835  0.473318\n",
       "3   Naive Bayes Normalizado  0.473318   0.510835  0.473318\n",
       "4                     Arbol  0.596288   0.601818  0.596288\n",
       "5         Arbol Normalizado  0.597448   0.601601  0.597448\n",
       "6                Arbol Grid  0.640371   0.656053  0.640371"
      ]
     },
     "execution_count": 47,
     "metadata": {},
     "output_type": "execute_result"
    }
   ],
   "source": [
    "resultados"
   ]
  },
  {
   "cell_type": "code",
   "execution_count": 48,
   "metadata": {},
   "outputs": [
    {
     "data": {
      "image/png": "[encoded data removed]",
      "text/plain": [
       "<Figure size 1440x360 with 1 Axes>"
      ]
     },
     "metadata": {
      "needs_background": "light"
     },
     "output_type": "display_data"
    }
   ],
   "source": [
    "fig, ax = plt.subplots(figsize=(20,5)) \n",
    "ax = sns.barplot(x=resultados[\"modelo\"], y=resultados[\"accuracy\"])"
   ]
  },
  {
   "cell_type": "code",
   "execution_count": 49,
   "metadata": {},
   "outputs": [
    {
     "data": {
      "image/png": "[encoded data removed]",
      "text/plain": [
       "<Figure size 1440x360 with 1 Axes>"
      ]
     },
     "metadata": {
      "needs_background": "light"
     },
     "output_type": "display_data"
    }
   ],
   "source": [
    "fig, ax = plt.subplots(figsize=(20,5)) \n",
    "ax = sns.barplot(x=resultados[\"modelo\"], y=resultados[\"precision\"])"
   ]
  },
  {
   "cell_type": "code",
   "execution_count": 50,
   "metadata": {},
   "outputs": [
    {
     "data": {
      "image/png": "[encoded data removed]",
      "text/plain": [
       "<Figure size 1440x360 with 1 Axes>"
      ]
     },
     "metadata": {
      "needs_background": "light"
     },
     "output_type": "display_data"
    }
   ],
   "source": [
    "fig, ax = plt.subplots(figsize=(20,5)) \n",
    "ax = sns.barplot(x=resultados[\"modelo\"], y=resultados[\"recall\"])"
   ]
  },
  {
   "cell_type": "markdown",
   "metadata": {},
   "source": [
    "----------------------------------"
   ]
  },
  {
   "cell_type": "markdown",
   "metadata": {},
   "source": [
    "----------------------------------"
   ]
  },
  {
   "cell_type": "markdown",
   "metadata": {},
   "source": [
    "# <b><a id=\"valence\">2. Predicción de valencia</a></b>"
   ]
  },
  {
   "cell_type": "code",
   "execution_count": 51,
   "metadata": {},
   "outputs": [],
   "source": [
    "X_valen = data.drop(columns=['genre', \"valence\"])\n",
    "y_valen = data[\"valence\"]"
   ]
  },
  {
   "cell_type": "code",
   "execution_count": 52,
   "metadata": {},
   "outputs": [],
   "source": [
    "X_train_valen, X_test_valen, y_train_valen, y_test_valen = train_test_split(X_valen, y_valen, random_state = 0)"
   ]
  },
  {
   "cell_type": "markdown",
   "metadata": {},
   "source": [
    "### Dummies"
   ]
  },
  {
   "cell_type": "code",
   "execution_count": 53,
   "metadata": {},
   "outputs": [],
   "source": [
    "ohe = OneHotEncoder(sparse=False, handle_unknown='ignore')\n",
    "dummies = ohe.fit_transform(X_train_valen[[\"time_signature\"]])"
   ]
  },
  {
   "cell_type": "code",
   "execution_count": 54,
   "metadata": {},
   "outputs": [],
   "source": [
    "columns_dummies = []\n",
    "for cat in ohe.categories_:\n",
    "\tcolumns_dummies.extend(cat[:])"
   ]
  },
  {
   "cell_type": "code",
   "execution_count": 55,
   "metadata": {},
   "outputs": [],
   "source": [
    "dummies = pd.DataFrame(dummies, columns=columns_dummies, index=X_train_valen.index)"
   ]
  },
  {
   "cell_type": "code",
   "execution_count": 56,
   "metadata": {},
   "outputs": [],
   "source": [
    "X_train_valen = X_train_valen.join(dummies)\n",
    "X_train_valen = X_train_valen.drop(columns = [\"time_signature\"], axis=1)"
   ]
  },
  {
   "cell_type": "code",
   "execution_count": 57,
   "metadata": {},
   "outputs": [],
   "source": [
    "dummies_test = ohe.transform(X_test_valen[[\"time_signature\"]])"
   ]
  },
  {
   "cell_type": "code",
   "execution_count": 58,
   "metadata": {},
   "outputs": [],
   "source": [
    "dummies_test = pd.DataFrame(dummies_test, columns=columns_dummies, index=X_test_valen.index)"
   ]
  },
  {
   "cell_type": "code",
   "execution_count": 59,
   "metadata": {},
   "outputs": [],
   "source": [
    "X_test_valen = X_test_valen.join(dummies_test)\n",
    "X_test_valen = X_test_valen.drop(columns = [\"time_signature\"], axis=1)"
   ]
  },
  {
   "cell_type": "code",
   "execution_count": 60,
   "metadata": {},
   "outputs": [
    {
     "data": {
      "text/html": [
       "<div>\n",
       "<style scoped>\n",
       "    .dataframe tbody tr th:only-of-type {\n",
       "        vertical-align: middle;\n",
       "    }\n",
       "\n",
       "    .dataframe tbody tr th {\n",
       "        vertical-align: top;\n",
       "    }\n",
       "\n",
       "    .dataframe thead th {\n",
       "        text-align: right;\n",
       "    }\n",
       "</style>\n",
       "<table border=\"1\" class=\"dataframe\">\n",
       "  <thead>\n",
       "    <tr style=\"text-align: right;\">\n",
       "      <th></th>\n",
       "      <th>danceability</th>\n",
       "      <th>energy</th>\n",
       "      <th>loudness</th>\n",
       "      <th>mode</th>\n",
       "      <th>speechiness</th>\n",
       "      <th>instrumentalness</th>\n",
       "      <th>tempo</th>\n",
       "      <th>acousticness</th>\n",
       "      <th>l_ace_quantity</th>\n",
       "      <th>l_aga_quantity</th>\n",
       "      <th>...</th>\n",
       "      <th>joy_quantity</th>\n",
       "      <th>negative_quantity</th>\n",
       "      <th>positive_quantity</th>\n",
       "      <th>sadness_quantity</th>\n",
       "      <th>surprise_quantity</th>\n",
       "      <th>trust_quantity</th>\n",
       "      <th>1</th>\n",
       "      <th>3</th>\n",
       "      <th>4</th>\n",
       "      <th>5</th>\n",
       "    </tr>\n",
       "  </thead>\n",
       "  <tbody>\n",
       "    <tr>\n",
       "      <th>491</th>\n",
       "      <td>0.906</td>\n",
       "      <td>0.597</td>\n",
       "      <td>-2.566</td>\n",
       "      <td>1</td>\n",
       "      <td>0.0764</td>\n",
       "      <td>0.000003</td>\n",
       "      <td>124.008</td>\n",
       "      <td>0.165000</td>\n",
       "      <td>0.0</td>\n",
       "      <td>0.0</td>\n",
       "      <td>...</td>\n",
       "      <td>5</td>\n",
       "      <td>4</td>\n",
       "      <td>10</td>\n",
       "      <td>4</td>\n",
       "      <td>3</td>\n",
       "      <td>7</td>\n",
       "      <td>0.0</td>\n",
       "      <td>0.0</td>\n",
       "      <td>1.0</td>\n",
       "      <td>0.0</td>\n",
       "    </tr>\n",
       "    <tr>\n",
       "      <th>2202</th>\n",
       "      <td>0.456</td>\n",
       "      <td>0.616</td>\n",
       "      <td>-9.164</td>\n",
       "      <td>1</td>\n",
       "      <td>0.0464</td>\n",
       "      <td>0.000000</td>\n",
       "      <td>199.031</td>\n",
       "      <td>0.487000</td>\n",
       "      <td>0.0</td>\n",
       "      <td>0.0</td>\n",
       "      <td>...</td>\n",
       "      <td>7</td>\n",
       "      <td>21</td>\n",
       "      <td>9</td>\n",
       "      <td>16</td>\n",
       "      <td>2</td>\n",
       "      <td>2</td>\n",
       "      <td>0.0</td>\n",
       "      <td>0.0</td>\n",
       "      <td>1.0</td>\n",
       "      <td>0.0</td>\n",
       "    </tr>\n",
       "    <tr>\n",
       "      <th>1368</th>\n",
       "      <td>0.477</td>\n",
       "      <td>0.951</td>\n",
       "      <td>-4.260</td>\n",
       "      <td>0</td>\n",
       "      <td>0.1580</td>\n",
       "      <td>0.442000</td>\n",
       "      <td>183.132</td>\n",
       "      <td>0.000019</td>\n",
       "      <td>0.0</td>\n",
       "      <td>0.0</td>\n",
       "      <td>...</td>\n",
       "      <td>26</td>\n",
       "      <td>65</td>\n",
       "      <td>27</td>\n",
       "      <td>23</td>\n",
       "      <td>5</td>\n",
       "      <td>21</td>\n",
       "      <td>0.0</td>\n",
       "      <td>0.0</td>\n",
       "      <td>1.0</td>\n",
       "      <td>0.0</td>\n",
       "    </tr>\n",
       "    <tr>\n",
       "      <th>2865</th>\n",
       "      <td>0.243</td>\n",
       "      <td>0.682</td>\n",
       "      <td>-9.355</td>\n",
       "      <td>0</td>\n",
       "      <td>0.0506</td>\n",
       "      <td>0.000002</td>\n",
       "      <td>148.538</td>\n",
       "      <td>0.001090</td>\n",
       "      <td>0.0</td>\n",
       "      <td>0.0</td>\n",
       "      <td>...</td>\n",
       "      <td>7</td>\n",
       "      <td>3</td>\n",
       "      <td>15</td>\n",
       "      <td>4</td>\n",
       "      <td>5</td>\n",
       "      <td>11</td>\n",
       "      <td>0.0</td>\n",
       "      <td>0.0</td>\n",
       "      <td>1.0</td>\n",
       "      <td>0.0</td>\n",
       "    </tr>\n",
       "    <tr>\n",
       "      <th>1815</th>\n",
       "      <td>0.736</td>\n",
       "      <td>0.294</td>\n",
       "      <td>-13.760</td>\n",
       "      <td>1</td>\n",
       "      <td>0.0365</td>\n",
       "      <td>0.022900</td>\n",
       "      <td>109.956</td>\n",
       "      <td>0.533000</td>\n",
       "      <td>0.0</td>\n",
       "      <td>0.0</td>\n",
       "      <td>...</td>\n",
       "      <td>6</td>\n",
       "      <td>1</td>\n",
       "      <td>7</td>\n",
       "      <td>1</td>\n",
       "      <td>0</td>\n",
       "      <td>0</td>\n",
       "      <td>0.0</td>\n",
       "      <td>0.0</td>\n",
       "      <td>1.0</td>\n",
       "      <td>0.0</td>\n",
       "    </tr>\n",
       "    <tr>\n",
       "      <th>...</th>\n",
       "      <td>...</td>\n",
       "      <td>...</td>\n",
       "      <td>...</td>\n",
       "      <td>...</td>\n",
       "      <td>...</td>\n",
       "      <td>...</td>\n",
       "      <td>...</td>\n",
       "      <td>...</td>\n",
       "      <td>...</td>\n",
       "      <td>...</td>\n",
       "      <td>...</td>\n",
       "      <td>...</td>\n",
       "      <td>...</td>\n",
       "      <td>...</td>\n",
       "      <td>...</td>\n",
       "      <td>...</td>\n",
       "      <td>...</td>\n",
       "      <td>...</td>\n",
       "      <td>...</td>\n",
       "      <td>...</td>\n",
       "      <td>...</td>\n",
       "    </tr>\n",
       "    <tr>\n",
       "      <th>835</th>\n",
       "      <td>0.362</td>\n",
       "      <td>0.600</td>\n",
       "      <td>-12.285</td>\n",
       "      <td>1</td>\n",
       "      <td>0.0463</td>\n",
       "      <td>0.042600</td>\n",
       "      <td>148.462</td>\n",
       "      <td>0.001830</td>\n",
       "      <td>0.0</td>\n",
       "      <td>0.0</td>\n",
       "      <td>...</td>\n",
       "      <td>12</td>\n",
       "      <td>2</td>\n",
       "      <td>12</td>\n",
       "      <td>1</td>\n",
       "      <td>5</td>\n",
       "      <td>5</td>\n",
       "      <td>0.0</td>\n",
       "      <td>0.0</td>\n",
       "      <td>1.0</td>\n",
       "      <td>0.0</td>\n",
       "    </tr>\n",
       "    <tr>\n",
       "      <th>3264</th>\n",
       "      <td>0.592</td>\n",
       "      <td>0.516</td>\n",
       "      <td>-8.149</td>\n",
       "      <td>1</td>\n",
       "      <td>0.0291</td>\n",
       "      <td>0.211000</td>\n",
       "      <td>127.136</td>\n",
       "      <td>0.000092</td>\n",
       "      <td>0.0</td>\n",
       "      <td>0.0</td>\n",
       "      <td>...</td>\n",
       "      <td>15</td>\n",
       "      <td>91</td>\n",
       "      <td>36</td>\n",
       "      <td>40</td>\n",
       "      <td>11</td>\n",
       "      <td>28</td>\n",
       "      <td>0.0</td>\n",
       "      <td>0.0</td>\n",
       "      <td>1.0</td>\n",
       "      <td>0.0</td>\n",
       "    </tr>\n",
       "    <tr>\n",
       "      <th>1653</th>\n",
       "      <td>0.669</td>\n",
       "      <td>0.499</td>\n",
       "      <td>-10.593</td>\n",
       "      <td>1</td>\n",
       "      <td>0.0626</td>\n",
       "      <td>0.000000</td>\n",
       "      <td>96.809</td>\n",
       "      <td>0.293000</td>\n",
       "      <td>0.0</td>\n",
       "      <td>0.0</td>\n",
       "      <td>...</td>\n",
       "      <td>0</td>\n",
       "      <td>4</td>\n",
       "      <td>11</td>\n",
       "      <td>3</td>\n",
       "      <td>0</td>\n",
       "      <td>2</td>\n",
       "      <td>0.0</td>\n",
       "      <td>0.0</td>\n",
       "      <td>1.0</td>\n",
       "      <td>0.0</td>\n",
       "    </tr>\n",
       "    <tr>\n",
       "      <th>2607</th>\n",
       "      <td>0.258</td>\n",
       "      <td>0.920</td>\n",
       "      <td>-8.955</td>\n",
       "      <td>1</td>\n",
       "      <td>0.0574</td>\n",
       "      <td>0.000000</td>\n",
       "      <td>146.597</td>\n",
       "      <td>0.092000</td>\n",
       "      <td>0.0</td>\n",
       "      <td>2.0</td>\n",
       "      <td>...</td>\n",
       "      <td>3</td>\n",
       "      <td>16</td>\n",
       "      <td>7</td>\n",
       "      <td>13</td>\n",
       "      <td>0</td>\n",
       "      <td>6</td>\n",
       "      <td>0.0</td>\n",
       "      <td>0.0</td>\n",
       "      <td>1.0</td>\n",
       "      <td>0.0</td>\n",
       "    </tr>\n",
       "    <tr>\n",
       "      <th>2732</th>\n",
       "      <td>0.728</td>\n",
       "      <td>0.920</td>\n",
       "      <td>-2.828</td>\n",
       "      <td>1</td>\n",
       "      <td>0.0294</td>\n",
       "      <td>0.000016</td>\n",
       "      <td>120.989</td>\n",
       "      <td>0.067300</td>\n",
       "      <td>0.0</td>\n",
       "      <td>0.0</td>\n",
       "      <td>...</td>\n",
       "      <td>2</td>\n",
       "      <td>11</td>\n",
       "      <td>14</td>\n",
       "      <td>5</td>\n",
       "      <td>1</td>\n",
       "      <td>8</td>\n",
       "      <td>0.0</td>\n",
       "      <td>0.0</td>\n",
       "      <td>1.0</td>\n",
       "      <td>0.0</td>\n",
       "    </tr>\n",
       "  </tbody>\n",
       "</table>\n",
       "<p>2583 rows × 72 columns</p>\n",
       "</div>"
      ],
      "text/plain": [
       "      danceability  energy  loudness  mode  speechiness  instrumentalness  \\\n",
       "491          0.906   0.597    -2.566     1       0.0764          0.000003   \n",
       "2202         0.456   0.616    -9.164     1       0.0464          0.000000   \n",
       "1368         0.477   0.951    -4.260     0       0.1580          0.442000   \n",
       "2865         0.243   0.682    -9.355     0       0.0506          0.000002   \n",
       "1815         0.736   0.294   -13.760     1       0.0365          0.022900   \n",
       "...            ...     ...       ...   ...          ...               ...   \n",
       "835          0.362   0.600   -12.285     1       0.0463          0.042600   \n",
       "3264         0.592   0.516    -8.149     1       0.0291          0.211000   \n",
       "1653         0.669   0.499   -10.593     1       0.0626          0.000000   \n",
       "2607         0.258   0.920    -8.955     1       0.0574          0.000000   \n",
       "2732         0.728   0.920    -2.828     1       0.0294          0.000016   \n",
       "\n",
       "        tempo  acousticness  l_ace_quantity  l_aga_quantity  ...  \\\n",
       "491   124.008      0.165000             0.0             0.0  ...   \n",
       "2202  199.031      0.487000             0.0             0.0  ...   \n",
       "1368  183.132      0.000019             0.0             0.0  ...   \n",
       "2865  148.538      0.001090             0.0             0.0  ...   \n",
       "1815  109.956      0.533000             0.0             0.0  ...   \n",
       "...       ...           ...             ...             ...  ...   \n",
       "835   148.462      0.001830             0.0             0.0  ...   \n",
       "3264  127.136      0.000092             0.0             0.0  ...   \n",
       "1653   96.809      0.293000             0.0             0.0  ...   \n",
       "2607  146.597      0.092000             0.0             2.0  ...   \n",
       "2732  120.989      0.067300             0.0             0.0  ...   \n",
       "\n",
       "      joy_quantity  negative_quantity  positive_quantity  sadness_quantity  \\\n",
       "491              5                  4                 10                 4   \n",
       "2202             7                 21                  9                16   \n",
       "1368            26                 65                 27                23   \n",
       "2865             7                  3                 15                 4   \n",
       "1815             6                  1                  7                 1   \n",
       "...            ...                ...                ...               ...   \n",
       "835             12                  2                 12                 1   \n",
       "3264            15                 91                 36                40   \n",
       "1653             0                  4                 11                 3   \n",
       "2607             3                 16                  7                13   \n",
       "2732             2                 11                 14                 5   \n",
       "\n",
       "      surprise_quantity  trust_quantity    1    3    4    5  \n",
       "491                   3               7  0.0  0.0  1.0  0.0  \n",
       "2202                  2               2  0.0  0.0  1.0  0.0  \n",
       "1368                  5              21  0.0  0.0  1.0  0.0  \n",
       "2865                  5              11  0.0  0.0  1.0  0.0  \n",
       "1815                  0               0  0.0  0.0  1.0  0.0  \n",
       "...                 ...             ...  ...  ...  ...  ...  \n",
       "835                   5               5  0.0  0.0  1.0  0.0  \n",
       "3264                 11              28  0.0  0.0  1.0  0.0  \n",
       "1653                  0               2  0.0  0.0  1.0  0.0  \n",
       "2607                  0               6  0.0  0.0  1.0  0.0  \n",
       "2732                  1               8  0.0  0.0  1.0  0.0  \n",
       "\n",
       "[2583 rows x 72 columns]"
      ]
     },
     "execution_count": 60,
     "metadata": {},
     "output_type": "execute_result"
    }
   ],
   "source": [
    "X_train_valen"
   ]
  },
  {
   "cell_type": "code",
   "execution_count": 61,
   "metadata": {},
   "outputs": [
    {
     "name": "stdout",
     "output_type": "stream",
     "text": [
      "(2583, 72)\n",
      "(2583,)\n",
      "(862, 72)\n",
      "(862,)\n"
     ]
    }
   ],
   "source": [
    "print(X_train_valen.shape)\n",
    "print(y_train_valen.shape)\n",
    "print(X_test_valen.shape)\n",
    "print(y_test_valen.shape)"
   ]
  },
  {
   "cell_type": "markdown",
   "metadata": {},
   "source": [
    "----------------------------------"
   ]
  },
  {
   "cell_type": "markdown",
   "metadata": {},
   "source": [
    "## <b><a id=\"elastic\">2.1. ElasticNet</a></b>"
   ]
  },
  {
   "cell_type": "code",
   "execution_count": 62,
   "metadata": {},
   "outputs": [
    {
     "data": {
      "text/html": [
       "<table class=\"simpletable\">\n",
       "<caption>OLS Regression Results</caption>\n",
       "<tr>\n",
       "  <th>Dep. Variable:</th>         <td>valence</td>     <th>  R-squared:         </th> <td>   0.419</td> \n",
       "</tr>\n",
       "<tr>\n",
       "  <th>Model:</th>                   <td>OLS</td>       <th>  Adj. R-squared:    </th> <td>   0.403</td> \n",
       "</tr>\n",
       "<tr>\n",
       "  <th>Method:</th>             <td>Least Squares</td>  <th>  F-statistic:       </th> <td>   26.24</td> \n",
       "</tr>\n",
       "<tr>\n",
       "  <th>Date:</th>             <td>Tue, 09 Mar 2021</td> <th>  Prob (F-statistic):</th> <td>4.12e-243</td>\n",
       "</tr>\n",
       "<tr>\n",
       "  <th>Time:</th>                 <td>16:52:46</td>     <th>  Log-Likelihood:    </th> <td>  591.60</td> \n",
       "</tr>\n",
       "<tr>\n",
       "  <th>No. Observations:</th>      <td>  2583</td>      <th>  AIC:               </th> <td>  -1043.</td> \n",
       "</tr>\n",
       "<tr>\n",
       "  <th>Df Residuals:</th>          <td>  2513</td>      <th>  BIC:               </th> <td>  -633.2</td> \n",
       "</tr>\n",
       "<tr>\n",
       "  <th>Df Model:</th>              <td>    69</td>      <th>                     </th>     <td> </td>    \n",
       "</tr>\n",
       "<tr>\n",
       "  <th>Covariance Type:</th>      <td>nonrobust</td>    <th>                     </th>     <td> </td>    \n",
       "</tr>\n",
       "</table>\n",
       "<table class=\"simpletable\">\n",
       "<tr>\n",
       "            <td></td>               <th>coef</th>     <th>std err</th>      <th>t</th>      <th>P>|t|</th>  <th>[0.025</th>    <th>0.975]</th>  \n",
       "</tr>\n",
       "<tr>\n",
       "  <th>const</th>                 <td>   -0.4262</td> <td>    0.036</td> <td>  -11.765</td> <td> 0.000</td> <td>   -0.497</td> <td>   -0.355</td>\n",
       "</tr>\n",
       "<tr>\n",
       "  <th>danceability</th>          <td>    0.8471</td> <td>    0.028</td> <td>   29.810</td> <td> 0.000</td> <td>    0.791</td> <td>    0.903</td>\n",
       "</tr>\n",
       "<tr>\n",
       "  <th>energy</th>                <td>    0.5080</td> <td>    0.031</td> <td>   16.331</td> <td> 0.000</td> <td>    0.447</td> <td>    0.569</td>\n",
       "</tr>\n",
       "<tr>\n",
       "  <th>loudness</th>              <td>   -0.0099</td> <td>    0.002</td> <td>   -6.413</td> <td> 0.000</td> <td>   -0.013</td> <td>   -0.007</td>\n",
       "</tr>\n",
       "<tr>\n",
       "  <th>mode</th>                  <td>    0.0039</td> <td>    0.009</td> <td>    0.455</td> <td> 0.649</td> <td>   -0.013</td> <td>    0.021</td>\n",
       "</tr>\n",
       "<tr>\n",
       "  <th>speechiness</th>           <td>   -0.4361</td> <td>    0.068</td> <td>   -6.442</td> <td> 0.000</td> <td>   -0.569</td> <td>   -0.303</td>\n",
       "</tr>\n",
       "<tr>\n",
       "  <th>instrumentalness</th>      <td>   -0.0638</td> <td>    0.020</td> <td>   -3.159</td> <td> 0.002</td> <td>   -0.103</td> <td>   -0.024</td>\n",
       "</tr>\n",
       "<tr>\n",
       "  <th>tempo</th>                 <td>    0.0017</td> <td>    0.000</td> <td>   12.410</td> <td> 0.000</td> <td>    0.001</td> <td>    0.002</td>\n",
       "</tr>\n",
       "<tr>\n",
       "  <th>acousticness</th>          <td>    0.1508</td> <td>    0.019</td> <td>    8.073</td> <td> 0.000</td> <td>    0.114</td> <td>    0.187</td>\n",
       "</tr>\n",
       "<tr>\n",
       "  <th>l_ace_quantity</th>        <td>   -0.0061</td> <td>    0.002</td> <td>   -2.635</td> <td> 0.008</td> <td>   -0.011</td> <td>   -0.002</td>\n",
       "</tr>\n",
       "<tr>\n",
       "  <th>l_aga_quantity</th>        <td>   -0.0314</td> <td>    0.014</td> <td>   -2.295</td> <td> 0.022</td> <td>   -0.058</td> <td>   -0.005</td>\n",
       "</tr>\n",
       "<tr>\n",
       "  <th>l_aid_quantity</th>        <td>    0.0086</td> <td>    0.003</td> <td>    3.326</td> <td> 0.001</td> <td>    0.004</td> <td>    0.014</td>\n",
       "</tr>\n",
       "<tr>\n",
       "  <th>l_ally_quantity</th>       <td>   -0.0076</td> <td>    0.004</td> <td>   -1.835</td> <td> 0.067</td> <td>   -0.016</td> <td>    0.001</td>\n",
       "</tr>\n",
       "<tr>\n",
       "  <th>l_art_quantity</th>        <td>   -0.0003</td> <td>    0.001</td> <td>   -0.342</td> <td> 0.732</td> <td>   -0.002</td> <td>    0.001</td>\n",
       "</tr>\n",
       "<tr>\n",
       "  <th>l_ay_quantity</th>         <td>   -0.0004</td> <td>    0.001</td> <td>   -0.574</td> <td> 0.566</td> <td>   -0.002</td> <td>    0.001</td>\n",
       "</tr>\n",
       "<tr>\n",
       "  <th>l_baby_quantity</th>       <td>    0.0004</td> <td>    0.002</td> <td>    0.247</td> <td> 0.805</td> <td>   -0.003</td> <td>    0.003</td>\n",
       "</tr>\n",
       "<tr>\n",
       "  <th>l_dance_quantity</th>      <td>    0.0007</td> <td>    0.002</td> <td>    0.316</td> <td> 0.752</td> <td>   -0.004</td> <td>    0.005</td>\n",
       "</tr>\n",
       "<tr>\n",
       "  <th>l_don_quantity</th>        <td>    0.0026</td> <td>    0.004</td> <td>    0.732</td> <td> 0.464</td> <td>   -0.004</td> <td>    0.010</td>\n",
       "</tr>\n",
       "<tr>\n",
       "  <th>l_eat_quantity</th>        <td>    0.0007</td> <td>    0.002</td> <td>    0.420</td> <td> 0.674</td> <td>   -0.002</td> <td>    0.004</td>\n",
       "</tr>\n",
       "<tr>\n",
       "  <th>l_fore_quantity</th>       <td>   -0.0100</td> <td>    0.004</td> <td>   -2.705</td> <td> 0.007</td> <td>   -0.017</td> <td>   -0.003</td>\n",
       "</tr>\n",
       "<tr>\n",
       "  <th>l_gain_quantity</th>       <td>    0.0297</td> <td>    0.014</td> <td>    2.151</td> <td> 0.032</td> <td>    0.003</td> <td>    0.057</td>\n",
       "</tr>\n",
       "<tr>\n",
       "  <th>l_god_quantity</th>        <td>   -0.0095</td> <td>    0.004</td> <td>   -2.679</td> <td> 0.007</td> <td>   -0.017</td> <td>   -0.003</td>\n",
       "</tr>\n",
       "<tr>\n",
       "  <th>l_good_quantity</th>       <td>    0.0024</td> <td>    0.002</td> <td>    1.081</td> <td> 0.280</td> <td>   -0.002</td> <td>    0.007</td>\n",
       "</tr>\n",
       "<tr>\n",
       "  <th>l_king_quantity</th>       <td>    0.0017</td> <td>    0.002</td> <td>    1.126</td> <td> 0.260</td> <td>   -0.001</td> <td>    0.005</td>\n",
       "</tr>\n",
       "<tr>\n",
       "  <th>l_love_quantity</th>       <td>   -0.0008</td> <td>    0.001</td> <td>   -0.614</td> <td> 0.539</td> <td>   -0.003</td> <td>    0.002</td>\n",
       "</tr>\n",
       "<tr>\n",
       "  <th>l_real_quantity</th>       <td>    0.0018</td> <td>    0.004</td> <td>    0.480</td> <td> 0.631</td> <td>   -0.005</td> <td>    0.009</td>\n",
       "</tr>\n",
       "<tr>\n",
       "  <th>l_rock_quantity</th>       <td>    0.0038</td> <td>    0.002</td> <td>    2.527</td> <td> 0.012</td> <td>    0.001</td> <td>    0.007</td>\n",
       "</tr>\n",
       "<tr>\n",
       "  <th>l_sing_quantity</th>       <td>   -0.0026</td> <td>    0.003</td> <td>   -0.946</td> <td> 0.344</td> <td>   -0.008</td> <td>    0.003</td>\n",
       "</tr>\n",
       "<tr>\n",
       "  <th>l_star_quantity</th>       <td>   -0.0022</td> <td>    0.004</td> <td>   -0.577</td> <td> 0.564</td> <td>   -0.010</td> <td>    0.005</td>\n",
       "</tr>\n",
       "<tr>\n",
       "  <th>l_sun_quantity</th>        <td>    0.0037</td> <td>    0.004</td> <td>    0.954</td> <td> 0.340</td> <td>   -0.004</td> <td>    0.011</td>\n",
       "</tr>\n",
       "<tr>\n",
       "  <th>l_top_quantity</th>        <td>    0.0013</td> <td>    0.002</td> <td>    0.686</td> <td> 0.493</td> <td>   -0.002</td> <td>    0.005</td>\n",
       "</tr>\n",
       "<tr>\n",
       "  <th>l_wit_quantity</th>        <td>-6.517e-05</td> <td>    0.001</td> <td>   -0.046</td> <td> 0.963</td> <td>   -0.003</td> <td>    0.003</td>\n",
       "</tr>\n",
       "<tr>\n",
       "  <th>s_art_quantity</th>        <td>   -0.0003</td> <td>    0.001</td> <td>   -0.342</td> <td> 0.732</td> <td>   -0.002</td> <td>    0.001</td>\n",
       "</tr>\n",
       "<tr>\n",
       "  <th>s_blue_quantity</th>       <td>    0.0076</td> <td>    0.003</td> <td>    2.210</td> <td> 0.027</td> <td>    0.001</td> <td>    0.014</td>\n",
       "</tr>\n",
       "<tr>\n",
       "  <th>s_cry_quantity</th>        <td>   -0.0037</td> <td>    0.003</td> <td>   -1.286</td> <td> 0.198</td> <td>   -0.009</td> <td>    0.002</td>\n",
       "</tr>\n",
       "<tr>\n",
       "  <th>s_die_quantity</th>        <td>   -0.0028</td> <td>    0.002</td> <td>   -1.275</td> <td> 0.202</td> <td>   -0.007</td> <td>    0.002</td>\n",
       "</tr>\n",
       "<tr>\n",
       "  <th>s_fall_quantity</th>       <td>   -0.0105</td> <td>    0.004</td> <td>   -2.759</td> <td> 0.006</td> <td>   -0.018</td> <td>   -0.003</td>\n",
       "</tr>\n",
       "<tr>\n",
       "  <th>s_hell_quantity</th>       <td>   -0.0098</td> <td>    0.003</td> <td>   -3.049</td> <td> 0.002</td> <td>   -0.016</td> <td>   -0.004</td>\n",
       "</tr>\n",
       "<tr>\n",
       "  <th>s_ill_quantity</th>        <td>   -0.0040</td> <td>    0.002</td> <td>   -2.625</td> <td> 0.009</td> <td>   -0.007</td> <td>   -0.001</td>\n",
       "</tr>\n",
       "<tr>\n",
       "  <th>s_kill_quantity</th>       <td>   -0.0078</td> <td>    0.004</td> <td>   -2.121</td> <td> 0.034</td> <td>   -0.015</td> <td>   -0.001</td>\n",
       "</tr>\n",
       "<tr>\n",
       "  <th>s_leave_quantity</th>      <td>   -0.0094</td> <td>    0.004</td> <td>   -2.424</td> <td> 0.015</td> <td>   -0.017</td> <td>   -0.002</td>\n",
       "</tr>\n",
       "<tr>\n",
       "  <th>s_lie_quantity</th>        <td>   -0.0061</td> <td>    0.003</td> <td>   -2.396</td> <td> 0.017</td> <td>   -0.011</td> <td>   -0.001</td>\n",
       "</tr>\n",
       "<tr>\n",
       "  <th>s_lone_quantity</th>       <td>    0.0045</td> <td>    0.003</td> <td>    1.765</td> <td> 0.078</td> <td>   -0.000</td> <td>    0.010</td>\n",
       "</tr>\n",
       "<tr>\n",
       "  <th>s_lose_quantity</th>       <td>   -0.0115</td> <td>    0.004</td> <td>   -2.755</td> <td> 0.006</td> <td>   -0.020</td> <td>   -0.003</td>\n",
       "</tr>\n",
       "<tr>\n",
       "  <th>s_mad_quantity</th>        <td>    0.0001</td> <td>    0.003</td> <td>    0.040</td> <td> 0.968</td> <td>   -0.006</td> <td>    0.006</td>\n",
       "</tr>\n",
       "<tr>\n",
       "  <th>s_sin_quantity</th>        <td>    0.0083</td> <td>    0.004</td> <td>    2.288</td> <td> 0.022</td> <td>    0.001</td> <td>    0.015</td>\n",
       "</tr>\n",
       "<tr>\n",
       "  <th>s_sing_quantity</th>       <td>   -0.0026</td> <td>    0.003</td> <td>   -0.946</td> <td> 0.344</td> <td>   -0.008</td> <td>    0.003</td>\n",
       "</tr>\n",
       "<tr>\n",
       "  <th>s_urn_quantity</th>        <td>   -0.0074</td> <td>    0.002</td> <td>   -3.040</td> <td> 0.002</td> <td>   -0.012</td> <td>   -0.003</td>\n",
       "</tr>\n",
       "<tr>\n",
       "  <th>s_wan_quantity</th>        <td>    0.0010</td> <td>    0.001</td> <td>    0.800</td> <td> 0.424</td> <td>   -0.001</td> <td>    0.004</td>\n",
       "</tr>\n",
       "<tr>\n",
       "  <th>fear</th>                  <td>    0.0776</td> <td>    0.242</td> <td>    0.321</td> <td> 0.748</td> <td>   -0.396</td> <td>    0.552</td>\n",
       "</tr>\n",
       "<tr>\n",
       "  <th>positive</th>              <td>    0.0302</td> <td>    0.049</td> <td>    0.622</td> <td> 0.534</td> <td>   -0.065</td> <td>    0.126</td>\n",
       "</tr>\n",
       "<tr>\n",
       "  <th>joy</th>                   <td>    0.5285</td> <td>    0.146</td> <td>    3.627</td> <td> 0.000</td> <td>    0.243</td> <td>    0.814</td>\n",
       "</tr>\n",
       "<tr>\n",
       "  <th>trust</th>                 <td>   -0.4878</td> <td>    0.209</td> <td>   -2.337</td> <td> 0.020</td> <td>   -0.897</td> <td>   -0.079</td>\n",
       "</tr>\n",
       "<tr>\n",
       "  <th>surprise</th>              <td>    0.1973</td> <td>    0.258</td> <td>    0.766</td> <td> 0.444</td> <td>   -0.308</td> <td>    0.702</td>\n",
       "</tr>\n",
       "<tr>\n",
       "  <th>anticipation</th>          <td>   -0.2247</td> <td>    0.185</td> <td>   -1.216</td> <td> 0.224</td> <td>   -0.587</td> <td>    0.138</td>\n",
       "</tr>\n",
       "<tr>\n",
       "  <th>negative</th>              <td>   -0.2095</td> <td>    0.196</td> <td>   -1.070</td> <td> 0.285</td> <td>   -0.593</td> <td>    0.174</td>\n",
       "</tr>\n",
       "<tr>\n",
       "  <th>sadness</th>               <td>    0.4520</td> <td>    0.230</td> <td>    1.969</td> <td> 0.049</td> <td>    0.002</td> <td>    0.902</td>\n",
       "</tr>\n",
       "<tr>\n",
       "  <th>disgust</th>               <td>    0.0128</td> <td>    0.295</td> <td>    0.044</td> <td> 0.965</td> <td>   -0.565</td> <td>    0.591</td>\n",
       "</tr>\n",
       "<tr>\n",
       "  <th>anger</th>                 <td>   -0.5517</td> <td>    0.286</td> <td>   -1.930</td> <td> 0.054</td> <td>   -1.112</td> <td>    0.009</td>\n",
       "</tr>\n",
       "<tr>\n",
       "  <th>anger_quantity</th>        <td>    0.0020</td> <td>    0.002</td> <td>    0.887</td> <td> 0.375</td> <td>   -0.002</td> <td>    0.006</td>\n",
       "</tr>\n",
       "<tr>\n",
       "  <th>anticipation_quantity</th> <td>    0.0021</td> <td>    0.001</td> <td>    1.499</td> <td> 0.134</td> <td>   -0.001</td> <td>    0.005</td>\n",
       "</tr>\n",
       "<tr>\n",
       "  <th>disgust_quantity</th>      <td>    0.0006</td> <td>    0.002</td> <td>    0.255</td> <td> 0.799</td> <td>   -0.004</td> <td>    0.005</td>\n",
       "</tr>\n",
       "<tr>\n",
       "  <th>fear_quantity</th>         <td>   -0.0023</td> <td>    0.002</td> <td>   -1.169</td> <td> 0.243</td> <td>   -0.006</td> <td>    0.002</td>\n",
       "</tr>\n",
       "<tr>\n",
       "  <th>joy_quantity</th>          <td>   -0.0028</td> <td>    0.002</td> <td>   -1.625</td> <td> 0.104</td> <td>   -0.006</td> <td>    0.001</td>\n",
       "</tr>\n",
       "<tr>\n",
       "  <th>negative_quantity</th>     <td>   -0.0003</td> <td>    0.002</td> <td>   -0.201</td> <td> 0.841</td> <td>   -0.004</td> <td>    0.003</td>\n",
       "</tr>\n",
       "<tr>\n",
       "  <th>positive_quantity</th>     <td>   -0.0005</td> <td>    0.001</td> <td>   -0.484</td> <td> 0.628</td> <td>   -0.002</td> <td>    0.001</td>\n",
       "</tr>\n",
       "<tr>\n",
       "  <th>sadness_quantity</th>      <td>    0.0001</td> <td>    0.002</td> <td>    0.058</td> <td> 0.954</td> <td>   -0.004</td> <td>    0.004</td>\n",
       "</tr>\n",
       "<tr>\n",
       "  <th>surprise_quantity</th>     <td>   -0.0011</td> <td>    0.002</td> <td>   -0.497</td> <td> 0.619</td> <td>   -0.005</td> <td>    0.003</td>\n",
       "</tr>\n",
       "<tr>\n",
       "  <th>trust_quantity</th>        <td>    0.0026</td> <td>    0.002</td> <td>    1.487</td> <td> 0.137</td> <td>   -0.001</td> <td>    0.006</td>\n",
       "</tr>\n",
       "<tr>\n",
       "  <th>1</th>                     <td>   -0.1277</td> <td>    0.036</td> <td>   -3.551</td> <td> 0.000</td> <td>   -0.198</td> <td>   -0.057</td>\n",
       "</tr>\n",
       "<tr>\n",
       "  <th>3</th>                     <td>   -0.1275</td> <td>    0.019</td> <td>   -6.633</td> <td> 0.000</td> <td>   -0.165</td> <td>   -0.090</td>\n",
       "</tr>\n",
       "<tr>\n",
       "  <th>4</th>                     <td>   -0.0938</td> <td>    0.017</td> <td>   -5.631</td> <td> 0.000</td> <td>   -0.126</td> <td>   -0.061</td>\n",
       "</tr>\n",
       "<tr>\n",
       "  <th>5</th>                     <td>   -0.0772</td> <td>    0.035</td> <td>   -2.188</td> <td> 0.029</td> <td>   -0.146</td> <td>   -0.008</td>\n",
       "</tr>\n",
       "</table>\n",
       "<table class=\"simpletable\">\n",
       "<tr>\n",
       "  <th>Omnibus:</th>       <td>27.402</td> <th>  Durbin-Watson:     </th> <td>   1.942</td>\n",
       "</tr>\n",
       "<tr>\n",
       "  <th>Prob(Omnibus):</th> <td> 0.000</td> <th>  Jarque-Bera (JB):  </th> <td>  17.602</td>\n",
       "</tr>\n",
       "<tr>\n",
       "  <th>Skew:</th>          <td>-0.018</td> <th>  Prob(JB):          </th> <td>0.000151</td>\n",
       "</tr>\n",
       "<tr>\n",
       "  <th>Kurtosis:</th>      <td> 2.597</td> <th>  Cond. No.          </th> <td>1.03e+16</td>\n",
       "</tr>\n",
       "</table><br/><br/>Warnings:<br/>[1] Standard Errors assume that the covariance matrix of the errors is correctly specified.<br/>[2] The smallest eigenvalue is 4.14e-25. This might indicate that there are<br/>strong multicollinearity problems or that the design matrix is singular."
      ],
      "text/plain": [
       "<class 'statsmodels.iolib.summary.Summary'>\n",
       "\"\"\"\n",
       "                            OLS Regression Results                            \n",
       "==============================================================================\n",
       "Dep. Variable:                valence   R-squared:                       0.419\n",
       "Model:                            OLS   Adj. R-squared:                  0.403\n",
       "Method:                 Least Squares   F-statistic:                     26.24\n",
       "Date:                Tue, 09 Mar 2021   Prob (F-statistic):          4.12e-243\n",
       "Time:                        16:52:46   Log-Likelihood:                 591.60\n",
       "No. Observations:                2583   AIC:                            -1043.\n",
       "Df Residuals:                    2513   BIC:                            -633.2\n",
       "Df Model:                          69                                         \n",
       "Covariance Type:            nonrobust                                         \n",
       "=========================================================================================\n",
       "                            coef    std err          t      P>|t|      [0.025      0.975]\n",
       "-----------------------------------------------------------------------------------------\n",
       "const                    -0.4262      0.036    -11.765      0.000      -0.497      -0.355\n",
       "danceability              0.8471      0.028     29.810      0.000       0.791       0.903\n",
       "energy                    0.5080      0.031     16.331      0.000       0.447       0.569\n",
       "loudness                 -0.0099      0.002     -6.413      0.000      -0.013      -0.007\n",
       "mode                      0.0039      0.009      0.455      0.649      -0.013       0.021\n",
       "speechiness              -0.4361      0.068     -6.442      0.000      -0.569      -0.303\n",
       "instrumentalness         -0.0638      0.020     -3.159      0.002      -0.103      -0.024\n",
       "tempo                     0.0017      0.000     12.410      0.000       0.001       0.002\n",
       "acousticness              0.1508      0.019      8.073      0.000       0.114       0.187\n",
       "l_ace_quantity           -0.0061      0.002     -2.635      0.008      -0.011      -0.002\n",
       "l_aga_quantity           -0.0314      0.014     -2.295      0.022      -0.058      -0.005\n",
       "l_aid_quantity            0.0086      0.003      3.326      0.001       0.004       0.014\n",
       "l_ally_quantity          -0.0076      0.004     -1.835      0.067      -0.016       0.001\n",
       "l_art_quantity           -0.0003      0.001     -0.342      0.732      -0.002       0.001\n",
       "l_ay_quantity            -0.0004      0.001     -0.574      0.566      -0.002       0.001\n",
       "l_baby_quantity           0.0004      0.002      0.247      0.805      -0.003       0.003\n",
       "l_dance_quantity          0.0007      0.002      0.316      0.752      -0.004       0.005\n",
       "l_don_quantity            0.0026      0.004      0.732      0.464      -0.004       0.010\n",
       "l_eat_quantity            0.0007      0.002      0.420      0.674      -0.002       0.004\n",
       "l_fore_quantity          -0.0100      0.004     -2.705      0.007      -0.017      -0.003\n",
       "l_gain_quantity           0.0297      0.014      2.151      0.032       0.003       0.057\n",
       "l_god_quantity           -0.0095      0.004     -2.679      0.007      -0.017      -0.003\n",
       "l_good_quantity           0.0024      0.002      1.081      0.280      -0.002       0.007\n",
       "l_king_quantity           0.0017      0.002      1.126      0.260      -0.001       0.005\n",
       "l_love_quantity          -0.0008      0.001     -0.614      0.539      -0.003       0.002\n",
       "l_real_quantity           0.0018      0.004      0.480      0.631      -0.005       0.009\n",
       "l_rock_quantity           0.0038      0.002      2.527      0.012       0.001       0.007\n",
       "l_sing_quantity          -0.0026      0.003     -0.946      0.344      -0.008       0.003\n",
       "l_star_quantity          -0.0022      0.004     -0.577      0.564      -0.010       0.005\n",
       "l_sun_quantity            0.0037      0.004      0.954      0.340      -0.004       0.011\n",
       "l_top_quantity            0.0013      0.002      0.686      0.493      -0.002       0.005\n",
       "l_wit_quantity        -6.517e-05      0.001     -0.046      0.963      -0.003       0.003\n",
       "s_art_quantity           -0.0003      0.001     -0.342      0.732      -0.002       0.001\n",
       "s_blue_quantity           0.0076      0.003      2.210      0.027       0.001       0.014\n",
       "s_cry_quantity           -0.0037      0.003     -1.286      0.198      -0.009       0.002\n",
       "s_die_quantity           -0.0028      0.002     -1.275      0.202      -0.007       0.002\n",
       "s_fall_quantity          -0.0105      0.004     -2.759      0.006      -0.018      -0.003\n",
       "s_hell_quantity          -0.0098      0.003     -3.049      0.002      -0.016      -0.004\n",
       "s_ill_quantity           -0.0040      0.002     -2.625      0.009      -0.007      -0.001\n",
       "s_kill_quantity          -0.0078      0.004     -2.121      0.034      -0.015      -0.001\n",
       "s_leave_quantity         -0.0094      0.004     -2.424      0.015      -0.017      -0.002\n",
       "s_lie_quantity           -0.0061      0.003     -2.396      0.017      -0.011      -0.001\n",
       "s_lone_quantity           0.0045      0.003      1.765      0.078      -0.000       0.010\n",
       "s_lose_quantity          -0.0115      0.004     -2.755      0.006      -0.020      -0.003\n",
       "s_mad_quantity            0.0001      0.003      0.040      0.968      -0.006       0.006\n",
       "s_sin_quantity            0.0083      0.004      2.288      0.022       0.001       0.015\n",
       "s_sing_quantity          -0.0026      0.003     -0.946      0.344      -0.008       0.003\n",
       "s_urn_quantity           -0.0074      0.002     -3.040      0.002      -0.012      -0.003\n",
       "s_wan_quantity            0.0010      0.001      0.800      0.424      -0.001       0.004\n",
       "fear                      0.0776      0.242      0.321      0.748      -0.396       0.552\n",
       "positive                  0.0302      0.049      0.622      0.534      -0.065       0.126\n",
       "joy                       0.5285      0.146      3.627      0.000       0.243       0.814\n",
       "trust                    -0.4878      0.209     -2.337      0.020      -0.897      -0.079\n",
       "surprise                  0.1973      0.258      0.766      0.444      -0.308       0.702\n",
       "anticipation             -0.2247      0.185     -1.216      0.224      -0.587       0.138\n",
       "negative                 -0.2095      0.196     -1.070      0.285      -0.593       0.174\n",
       "sadness                   0.4520      0.230      1.969      0.049       0.002       0.902\n",
       "disgust                   0.0128      0.295      0.044      0.965      -0.565       0.591\n",
       "anger                    -0.5517      0.286     -1.930      0.054      -1.112       0.009\n",
       "anger_quantity            0.0020      0.002      0.887      0.375      -0.002       0.006\n",
       "anticipation_quantity     0.0021      0.001      1.499      0.134      -0.001       0.005\n",
       "disgust_quantity          0.0006      0.002      0.255      0.799      -0.004       0.005\n",
       "fear_quantity            -0.0023      0.002     -1.169      0.243      -0.006       0.002\n",
       "joy_quantity             -0.0028      0.002     -1.625      0.104      -0.006       0.001\n",
       "negative_quantity        -0.0003      0.002     -0.201      0.841      -0.004       0.003\n",
       "positive_quantity        -0.0005      0.001     -0.484      0.628      -0.002       0.001\n",
       "sadness_quantity          0.0001      0.002      0.058      0.954      -0.004       0.004\n",
       "surprise_quantity        -0.0011      0.002     -0.497      0.619      -0.005       0.003\n",
       "trust_quantity            0.0026      0.002      1.487      0.137      -0.001       0.006\n",
       "1                        -0.1277      0.036     -3.551      0.000      -0.198      -0.057\n",
       "3                        -0.1275      0.019     -6.633      0.000      -0.165      -0.090\n",
       "4                        -0.0938      0.017     -5.631      0.000      -0.126      -0.061\n",
       "5                        -0.0772      0.035     -2.188      0.029      -0.146      -0.008\n",
       "==============================================================================\n",
       "Omnibus:                       27.402   Durbin-Watson:                   1.942\n",
       "Prob(Omnibus):                  0.000   Jarque-Bera (JB):               17.602\n",
       "Skew:                          -0.018   Prob(JB):                     0.000151\n",
       "Kurtosis:                       2.597   Cond. No.                     1.03e+16\n",
       "==============================================================================\n",
       "\n",
       "Warnings:\n",
       "[1] Standard Errors assume that the covariance matrix of the errors is correctly specified.\n",
       "[2] The smallest eigenvalue is 4.14e-25. This might indicate that there are\n",
       "strong multicollinearity problems or that the design matrix is singular.\n",
       "\"\"\""
      ]
     },
     "execution_count": 62,
     "metadata": {},
     "output_type": "execute_result"
    }
   ],
   "source": [
    "baseline = sm.OLS(y_train_valen, sm.add_constant(X_train_valen)).fit()\n",
    "baseline.summary()"
   ]
  },
  {
   "cell_type": "markdown",
   "metadata": {},
   "source": [
    "----------------------------------"
   ]
  },
  {
   "cell_type": "markdown",
   "metadata": {},
   "source": [
    "## <b><a id=\"lasso\">2.2. Lasso</a></b>"
   ]
  },
  {
   "cell_type": "code",
   "execution_count": 63,
   "metadata": {},
   "outputs": [],
   "source": [
    "kf = KFold(shuffle=True, random_state=10)"
   ]
  },
  {
   "cell_type": "code",
   "execution_count": 64,
   "metadata": {},
   "outputs": [
    {
     "name": "stdout",
     "output_type": "stream",
     "text": [
      "Alpha óptimo: 0.0001\n",
      "R2 Lasso de entrenamiento: 0.391\n"
     ]
    }
   ],
   "source": [
    "model_skl_LassoCV = linear_model.LassoCV(alphas=np.linspace(0.0001,0.01, 100), cv=kf, normalize=True)\n",
    "model_skl_LassoCV.fit(X_train_valen, y_train_valen)\n",
    "print(\"Alpha óptimo:\", model_skl_LassoCV.alpha_)\n",
    "print(\"R2 Lasso de entrenamiento:\",model_skl_LassoCV.score(X_train_valen, y_train_valen).round(3))"
   ]
  },
  {
   "cell_type": "code",
   "execution_count": 65,
   "metadata": {},
   "outputs": [
    {
     "name": "stdout",
     "output_type": "stream",
     "text": [
      "Variables igualadas a 0 por Lasso: 40\n"
     ]
    }
   ],
   "source": [
    "betas = pd.DataFrame(data= model_skl_LassoCV.coef_ , index=X_train_valen.columns, columns=['Betas'])\n",
    "\n",
    "betas_0_mask = betas.Betas == 0\n",
    "print(\"Variables igualadas a 0 por Lasso:\", betas_0_mask.sum())"
   ]
  },
  {
   "cell_type": "code",
   "execution_count": 66,
   "metadata": {},
   "outputs": [
    {
     "data": {
      "text/html": [
       "<div>\n",
       "<style scoped>\n",
       "    .dataframe tbody tr th:only-of-type {\n",
       "        vertical-align: middle;\n",
       "    }\n",
       "\n",
       "    .dataframe tbody tr th {\n",
       "        vertical-align: top;\n",
       "    }\n",
       "\n",
       "    .dataframe thead th {\n",
       "        text-align: right;\n",
       "    }\n",
       "</style>\n",
       "<table border=\"1\" class=\"dataframe\">\n",
       "  <thead>\n",
       "    <tr style=\"text-align: right;\">\n",
       "      <th></th>\n",
       "      <th>Betas</th>\n",
       "    </tr>\n",
       "  </thead>\n",
       "  <tbody>\n",
       "    <tr>\n",
       "      <th>danceability</th>\n",
       "      <td>0.785333</td>\n",
       "    </tr>\n",
       "    <tr>\n",
       "      <th>energy</th>\n",
       "      <td>0.345381</td>\n",
       "    </tr>\n",
       "    <tr>\n",
       "      <th>acousticness</th>\n",
       "      <td>0.103838</td>\n",
       "    </tr>\n",
       "    <tr>\n",
       "      <th>joy</th>\n",
       "      <td>0.067517</td>\n",
       "    </tr>\n",
       "    <tr>\n",
       "      <th>4</th>\n",
       "      <td>0.009854</td>\n",
       "    </tr>\n",
       "    <tr>\n",
       "      <th>...</th>\n",
       "      <td>...</td>\n",
       "    </tr>\n",
       "    <tr>\n",
       "      <th>fear</th>\n",
       "      <td>-0.010825</td>\n",
       "    </tr>\n",
       "    <tr>\n",
       "      <th>instrumentalness</th>\n",
       "      <td>-0.029835</td>\n",
       "    </tr>\n",
       "    <tr>\n",
       "      <th>negative</th>\n",
       "      <td>-0.042126</td>\n",
       "    </tr>\n",
       "    <tr>\n",
       "      <th>anger</th>\n",
       "      <td>-0.122801</td>\n",
       "    </tr>\n",
       "    <tr>\n",
       "      <th>speechiness</th>\n",
       "      <td>-0.305969</td>\n",
       "    </tr>\n",
       "  </tbody>\n",
       "</table>\n",
       "<p>72 rows × 1 columns</p>\n",
       "</div>"
      ],
      "text/plain": [
       "                     Betas\n",
       "danceability      0.785333\n",
       "energy            0.345381\n",
       "acousticness      0.103838\n",
       "joy               0.067517\n",
       "4                 0.009854\n",
       "...                    ...\n",
       "fear             -0.010825\n",
       "instrumentalness -0.029835\n",
       "negative         -0.042126\n",
       "anger            -0.122801\n",
       "speechiness      -0.305969\n",
       "\n",
       "[72 rows x 1 columns]"
      ]
     },
     "execution_count": 66,
     "metadata": {},
     "output_type": "execute_result"
    }
   ],
   "source": [
    "betas.sort_values(by = \"Betas\", ascending = False)"
   ]
  },
  {
   "cell_type": "markdown",
   "metadata": {},
   "source": [
    "----------------------------------"
   ]
  },
  {
   "cell_type": "markdown",
   "metadata": {},
   "source": [
    "## <b><a id=\"ridge\">2.3. Ridge</a></b>"
   ]
  },
  {
   "cell_type": "code",
   "execution_count": 67,
   "metadata": {},
   "outputs": [
    {
     "name": "stdout",
     "output_type": "stream",
     "text": [
      "Alpha óptimo: 0.022000000000000002\n",
      "R2 Ridge de entrenamiento: 0.417\n"
     ]
    }
   ],
   "source": [
    "model_skl_RidgeCV = linear_model.RidgeCV(alphas=np.linspace(0.001,0.1, 100), cv=kf, normalize=True)\n",
    "model_skl_RidgeCV.fit(X_train_valen, y_train_valen)\n",
    "print(\"Alpha óptimo:\", model_skl_RidgeCV.alpha_)\n",
    "print(\"R2 Ridge de entrenamiento:\",model_skl_RidgeCV.score(X_train_valen, y_train_valen).round(3))"
   ]
  },
  {
   "cell_type": "markdown",
   "metadata": {},
   "source": [
    "----------------------------------"
   ]
  },
  {
   "cell_type": "markdown",
   "metadata": {},
   "source": [
    "### Predicción Lasso"
   ]
  },
  {
   "cell_type": "code",
   "execution_count": 68,
   "metadata": {},
   "outputs": [],
   "source": [
    "prediction_lasso = model_skl_LassoCV.predict(X_test_valen)"
   ]
  },
  {
   "cell_type": "code",
   "execution_count": 69,
   "metadata": {},
   "outputs": [
    {
     "data": {
      "text/plain": [
       "Text(0.5, 0, 'Y_test')"
      ]
     },
     "execution_count": 69,
     "metadata": {},
     "output_type": "execute_result"
    },
    {
     "data": {
      "image/png": "[encoded data removed]",
      "text/plain": [
       "<Figure size 576x576 with 1 Axes>"
      ]
     },
     "metadata": {
      "needs_background": "light"
     },
     "output_type": "display_data"
    }
   ],
   "source": [
    "plt.figure(figsize=(8,8))\n",
    "sns.scatterplot(y_test_valen, prediction_lasso)\n",
    "sns.lineplot([0,1],[0,1],color='black')\n",
    "plt.title(\"Evaluación de predicciónes\")\n",
    "plt.ylabel(\"Y_pred\")\n",
    "plt.xlabel(\"Y_test\")"
   ]
  },
  {
   "cell_type": "markdown",
   "metadata": {},
   "source": [
    "----------------------------------"
   ]
  },
  {
   "cell_type": "markdown",
   "metadata": {},
   "source": [
    "#### Resumen de resultados de los modelos de regresión"
   ]
  },
  {
   "cell_type": "code",
   "execution_count": 70,
   "metadata": {},
   "outputs": [],
   "source": [
    "#ElasticNet\n",
    "resultados_elasticnet = [[\"ElasticNet\", \n",
    "                          r2_score(y_test_valen, baseline.predict(sm.add_constant(X_test_valen))), \n",
    "                          r2_score(y_train_valen, baseline.predict(sm.add_constant(X_train_valen)))\n",
    "                         ]]\n",
    "resultados_valen = pd.DataFrame(resultados_elasticnet, columns=[\"modelo\", \"r2_test\", \"r2_train\"])\n",
    "\n",
    "#Lasso\n",
    "resultados_lasso = [[\"Lasso\", r2_score(y_test_valen, model_skl_LassoCV.predict(X_test_valen)), r2_score(y_train_valen, model_skl_LassoCV.predict(X_train_valen))]]\n",
    "resultados_lasso_df = pd.DataFrame(resultados_lasso, columns=[\"modelo\", \"r2_test\", \"r2_train\"])\n",
    "\n",
    "#Ridge\n",
    "resultados_ridge = [[\"Ridge\", r2_score(y_test_valen, model_skl_RidgeCV.predict(X_test_valen)), r2_score(y_train_valen, model_skl_RidgeCV.predict(X_train_valen))]]\n",
    "resultados_ridge_df = pd.DataFrame(resultados_ridge, columns=[\"modelo\", \"r2_test\", \"r2_train\"])\n",
    "\n",
    "#Tabla final\n",
    "resultados_valen = resultados_valen.append([resultados_lasso_df, resultados_ridge_df])\n",
    "resultados_valen.reset_index(drop=True, inplace=True)"
   ]
  },
  {
   "cell_type": "code",
   "execution_count": 71,
   "metadata": {},
   "outputs": [
    {
     "data": {
      "text/html": [
       "<div>\n",
       "<style scoped>\n",
       "    .dataframe tbody tr th:only-of-type {\n",
       "        vertical-align: middle;\n",
       "    }\n",
       "\n",
       "    .dataframe tbody tr th {\n",
       "        vertical-align: top;\n",
       "    }\n",
       "\n",
       "    .dataframe thead th {\n",
       "        text-align: right;\n",
       "    }\n",
       "</style>\n",
       "<table border=\"1\" class=\"dataframe\">\n",
       "  <thead>\n",
       "    <tr style=\"text-align: right;\">\n",
       "      <th></th>\n",
       "      <th>modelo</th>\n",
       "      <th>r2_test</th>\n",
       "      <th>r2_train</th>\n",
       "    </tr>\n",
       "  </thead>\n",
       "  <tbody>\n",
       "    <tr>\n",
       "      <th>0</th>\n",
       "      <td>ElasticNet</td>\n",
       "      <td>0.387852</td>\n",
       "      <td>0.418723</td>\n",
       "    </tr>\n",
       "    <tr>\n",
       "      <th>1</th>\n",
       "      <td>Lasso</td>\n",
       "      <td>0.398177</td>\n",
       "      <td>0.390603</td>\n",
       "    </tr>\n",
       "    <tr>\n",
       "      <th>2</th>\n",
       "      <td>Ridge</td>\n",
       "      <td>0.390729</td>\n",
       "      <td>0.416910</td>\n",
       "    </tr>\n",
       "  </tbody>\n",
       "</table>\n",
       "</div>"
      ],
      "text/plain": [
       "       modelo   r2_test  r2_train\n",
       "0  ElasticNet  0.387852  0.418723\n",
       "1       Lasso  0.398177  0.390603\n",
       "2       Ridge  0.390729  0.416910"
      ]
     },
     "execution_count": 71,
     "metadata": {},
     "output_type": "execute_result"
    }
   ],
   "source": [
    "resultados_valen"
   ]
  },
  {
   "cell_type": "code",
   "execution_count": 72,
   "metadata": {},
   "outputs": [
    {
     "data": {
      "image/png": "[encoded data removed]",
      "text/plain": [
       "<Figure size 720x360 with 1 Axes>"
      ]
     },
     "metadata": {
      "needs_background": "light"
     },
     "output_type": "display_data"
    }
   ],
   "source": [
    "fig, ax = plt.subplots(figsize=(10,5)) \n",
    "ax = sns.barplot(x=resultados_valen[\"modelo\"], y=resultados_valen[\"r2_test\"])"
   ]
  },
  {
   "cell_type": "code",
   "execution_count": 73,
   "metadata": {},
   "outputs": [
    {
     "data": {
      "image/png": "[encoded data removed]",
      "text/plain": [
       "<Figure size 720x360 with 1 Axes>"
      ]
     },
     "metadata": {
      "needs_background": "light"
     },
     "output_type": "display_data"
    }
   ],
   "source": [
    "fig, ax = plt.subplots(figsize=(10,5)) \n",
    "ax = sns.barplot(x=resultados_valen[\"modelo\"], y=resultados_valen[\"r2_train\"])"
   ]
  },
  {
   "cell_type": "code",
   "execution_count": null,
   "metadata": {},
   "outputs": [],
   "source": []
  }
 ],
 "metadata": {
  "kernelspec": {
   "display_name": "Python 3",
   "language": "python",
   "name": "python3"
  },
  "language_info": {
   "codemirror_mode": {
    "name": "ipython",
    "version": 3
   },
   "file_extension": ".py",
   "mimetype": "text/x-python",
   "name": "python",
   "nbconvert_exporter": "python",
   "pygments_lexer": "ipython3",
   "version": "3.7.10"
  }
 },
 "nbformat": 4,
 "nbformat_minor": 4
}
